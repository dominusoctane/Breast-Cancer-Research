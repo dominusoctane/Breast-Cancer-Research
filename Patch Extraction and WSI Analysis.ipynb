{
 "cells": [
  {
   "cell_type": "code",
   "execution_count": 1,
   "id": "a7396db0-7823-43e9-bd97-f462a15de485",
   "metadata": {},
   "outputs": [
    {
     "name": "stdout",
     "output_type": "stream",
     "text": [
      "ln: failed to create symbolic link 'resnet.py': File exists\n"
     ]
    },
    {
     "name": "stderr",
     "output_type": "stream",
     "text": [
      "2023-10-25 17:35:34.507112: I tensorflow/stream_executor/platform/default/dso_loader.cc:49] Successfully opened dynamic library libcudart.so.11.0\n"
     ]
    }
   ],
   "source": [
    "# Required imports\n",
    "import os\n",
    "import shutil\n",
    "import time\n",
    "import cv2\n",
    "import numpy as np\n",
    "import math\n",
    "import pandas as pd\n",
    "from PIL import Image\n",
    "import torch\n",
    "import torch.nn as nn\n",
    "import torchvision.models as models\n",
    "import torchvision.transforms as transforms\n",
    "from torchvision import datasets\n",
    "from matplotlib import pyplot as plt\n",
    "from sklearn.metrics import classification_report\n",
    "from xgboost import XGBClassifier\n",
    "import seaborn as sns\n",
    "\n",
    "# Constants\n",
    "Image.MAX_IMAGE_PIXELS = None\n",
    "os.environ[\"CUDA_VISIBLE_DEVICES\"] = \"3\"\n",
    "IMAGE_EXT = '.jpg'\n",
    "BASE_PATH = '/workspace/0728tot/last_experiment/'\n",
    "RESIZE_DIMS = (224, 224)\n",
    "NUM_CLASSES = 2\n",
    "\n",
    "\n",
    "!ln -s /workspace/0728tot/last_experiment/resnet.py resnet.py\n",
    "from resnet import *"
   ]
  },
  {
   "cell_type": "code",
   "execution_count": 2,
   "id": "14d3c6a4-0752-4884-896e-0a80c71aa126",
   "metadata": {},
   "outputs": [],
   "source": [
    "# Directory paths\n",
    "\n",
    "# Folders containing original DUV WSI\n",
    "ORIGINAL_IMAGES_DIR = os.path.join(BASE_PATH, 'unknown_DUV_WSI')\n",
    "\n",
    "# Folder containing reshaped DUV WSI\n",
    "RESHAPED_IMAGES_DIR = os.path.join(BASE_PATH, 'reshaped_unknown_DUV_WSI')\n",
    "\n",
    "# Folders processing the GradCAM++ results\n",
    "RAW_MAP_DIR = os.path.join(BASE_PATH, 'unknown_DenseNet169ImageNetGradCAM_2')\n",
    "FINAL_HEAT_MAP_DIR = os.path.join(BASE_PATH, 'unknown_DenseNet169ImageNetGradCAM')\n",
    "FINAL_OVERLAY_HEAT_MAP_DIR = os.path.join(BASE_PATH, 'unknown_DUV_finalheatmap/')\n",
    "\n",
    "# Folders for holding the GradCAM++ results and patch level results in a grid system\n",
    "GRADCAM_GRID_MAP_DIR = os.path.join(BASE_PATH, 'unknown_gradcam_gridmap')\n",
    "PRED_GRID_MAP_DIR = os.path.join(BASE_PATH, 'unknown_patch_gridmap')\n",
    "\n",
    "# Folders for processing the patch level and GradCAM++ results for visualization purposes\n",
    "PROCESS_PATCHES_DIR = os.path.join(BASE_PATH,'unknown_process_patchmaps')\n",
    "BOUNDING_BOXES_OVERLAY_DIR = os.path.join(BASE_PATH,'unknown_bounding_boxes_overlays')\n",
    "\n",
    "# Folders for patch related info\n",
    "PATCH_DIR = os.path.join(BASE_PATH, 'unknown_Patches')\n",
    "PATCH_FEATURES_DIR = os.path.join(BASE_PATH, 'unknown_Patches_features')\n",
    "PRIOR_PATCH_FEATURES_DIR = os.path.join(BASE_PATH, 'DUV_features')\n",
    "PRIOR_PATCH_DATA_CSV = os.path.join(BASE_PATH, 'duvdata.csv')\n",
    "\n",
    "# Folder for getting training splits, an example\n",
    "SPLIT_DIR = os.path.join(BASE_PATH, 'prior_train_splits')"
   ]
  },
  {
   "cell_type": "code",
   "execution_count": 22,
   "id": "8fe88c21-e377-4832-9e93-d83a2c30c54b",
   "metadata": {},
   "outputs": [],
   "source": [
    "# Ensure all new patch and prediction directories exist\n",
    "all_directories = [RAW_MAP_DIR, FINAL_HEAT_MAP_DIR, GRADCAM_GRID_MAP_DIR, PRED_GRID_MAP_DIR, PATCH_DIR, PATCH_FEATURES_DIR]\n",
    "for directory in all_directories:\n",
    "    if not os.path.exists(directory):\n",
    "        os.makedirs(directory)\n",
    "\n",
    "\n",
    "# Enable matplotlib inline mode for Jupyter Notebook\n",
    "%matplotlib inline\n",
    "        \n",
    "# Helper functions\n",
    "def create_dataframe(data_folder, is_map_format=False):\n",
    "    '''Creates a dataframe for the dataset. \n",
    "       If is_map_format is True, it uses the logic specific to map format.'''\n",
    "    data_entries = []\n",
    "    for root, _, files in os.walk(data_folder):\n",
    "        for filename in files:\n",
    "            relative_path = os.path.relpath(root, data_folder)\n",
    "            file_extension = os.path.splitext(filename)[-1]\n",
    "            if file_extension == '.jpg':\n",
    "                try:\n",
    "                    if is_map_format:\n",
    "                        name_parts = filename.replace(\".\", \"_\").split('_')\n",
    "                        subject, side, _ = name_parts\n",
    "                    else:\n",
    "                        name_parts = filename.split('_')\n",
    "                        subject = int(name_parts[0].split('.')[0])\n",
    "                        side = int(name_parts[1].split('.')[0]) if len(name_parts) > 1 else 0\n",
    "                    full_path = os.path.join(root, filename)\n",
    "                    entry = {\n",
    "                        'relative_path': relative_path, \n",
    "                        'filename': filename, \n",
    "                        'subject': subject, \n",
    "                        'side': side, \n",
    "                        'full_path': full_path\n",
    "                    }\n",
    "                    data_entries.append(entry)\n",
    "                except:\n",
    "                    pass\n",
    "    data_frame = pd.DataFrame(data_entries)\n",
    "    return data_frame\n",
    "\n",
    "def save_foreground_image(image_path, output_directory, subject_id, side_id):\n",
    "    image = cv2.imread(image_path)\n",
    "    grayscale_image = cv2.cvtColor(image, cv2.COLOR_BGR2GRAY)\n",
    "    denoised_image = cv2.fastNlMeansDenoising(grayscale_image, None, 25, 7, 21)\n",
    "    edges_image = cv2.Canny(denoised_image, 100, 100, L2gradient=True)\n",
    "    x, y, w, h = cv2.boundingRect(edges_image)\n",
    "    foreground_image = image[y:y+h, x:x+w]\n",
    "    output_path = os.path.join(output_directory, f\"{subject_id}_{side_id}.jpg\")\n",
    "    cv2.imwrite(output_path, foreground_image)\n",
    "\n",
    "def compute_foreground_ratio(image):\n",
    "    background_threshold = 5\n",
    "    return np.mean(image[:, :, 1] >= background_threshold)\n",
    "\n",
    "dataset_frame = create_dataframe(ORIGINAL_IMAGES_DIR)\n",
    "dataset_frame = dataset_frame.sort_values('subject')\n",
    "image_paths = dataset_frame.full_path.to_numpy()\n",
    "subject_ids = dataset_frame.subject.to_list()\n",
    "side_ids = dataset_frame.side.to_list()\n",
    "\n",
    "# Getting the recropped images to reduce processing time\n",
    "for index in range(len(dataset_frame)):\n",
    "    save_foreground_image(image_paths[index], RESHAPED_IMAGES_DIR, subject_ids[index], side_ids[index])"
   ]
  },
  {
   "cell_type": "code",
   "execution_count": 6,
   "id": "1aa05567-394f-4894-b3b2-ceacc1a37e83",
   "metadata": {
    "scrolled": true
   },
   "outputs": [
    {
     "name": "stdout",
     "output_type": "stream",
     "text": [
      "8.811657905578613\n",
      "17.011672973632812\n",
      "19.407439947128296\n",
      "21.95302677154541\n",
      "24.92561936378479\n",
      "29.61857557296753\n",
      "39.890738010406494\n",
      "48.88908624649048\n",
      "54.881184101104736\n",
      "61.17561435699463\n",
      "63.11239051818848\n",
      "65.61716294288635\n",
      "70.35196781158447\n",
      "74.57070779800415\n",
      "77.53427457809448\n",
      "79.96434259414673\n",
      "82.26051473617554\n",
      "84.26114797592163\n",
      "88.1029806137085\n",
      "90.83645367622375\n",
      "92.14929461479187\n",
      "93.40744519233704\n",
      "96.88540887832642\n",
      "100.29750967025757\n",
      "106.00837278366089\n",
      "111.89108872413635\n",
      "117.11548328399658\n",
      "123.82678627967834\n",
      "135.56371593475342\n",
      "141.87888503074646\n",
      "142.6039924621582\n",
      "143.4754159450531\n",
      "144.8688383102417\n",
      "148.20301127433777\n",
      "151.0614960193634\n",
      "154.23908162117004\n",
      "156.50515747070312\n",
      "159.10237216949463\n",
      "159.90557098388672\n",
      "161.298588514328\n",
      "163.14071822166443\n",
      "166.92461562156677\n",
      "182.45984768867493\n",
      "183.28068232536316\n",
      "185.19795322418213\n",
      "188.99002265930176\n",
      "189.32873558998108\n",
      "190.72538447380066\n",
      "193.1427035331726\n",
      "195.5515193939209\n",
      "200.62160873413086\n",
      "205.38245820999146\n",
      "207.2925591468811\n",
      "209.41530466079712\n",
      "211.18473362922668\n",
      "215.37937712669373\n",
      "217.89483046531677\n",
      "220.83547282218933\n",
      "221.92537927627563\n",
      "223.1334080696106\n",
      "224.2692632675171\n",
      "225.6667263507843\n",
      "228.22118735313416\n",
      "230.41386198997498\n",
      "235.6295485496521\n",
      "240.7889850139618\n",
      "243.16083455085754\n",
      "246.4247281551361\n",
      "248.11133551597595\n",
      "250.52811908721924\n",
      "252.07990527153015\n",
      "254.28672170639038\n",
      "257.27965259552\n",
      "259.61512303352356\n",
      "267.40514373779297\n",
      "270.5875895023346\n",
      "273.2075848579407\n",
      "277.19371342658997\n",
      "282.76111912727356\n",
      "285.56319522857666\n",
      "288.0856420993805\n"
     ]
    }
   ],
   "source": [
    "# Patch Extraction\n",
    "subject_side_pairs = [f\"{subj}_{side}\" for subj, side in zip(subject_ids, side_ids)]\n",
    "for pair in subject_side_pairs:\n",
    "    full_patch_directory = os.path.join(PATCH_DIR, f'S{pair}')\n",
    "    shutil.rmtree(full_patch_directory, ignore_errors=True)\n",
    "    os.makedirs(full_patch_directory)\n",
    "\n",
    "processed_frame = create_dataframe(RESHAPED_IMAGES_DIR, is_map_format=True)\n",
    "processed_frame = processed_frame.sort_values(by=['subject'], ignore_index=True)\n",
    "processed_image_paths = processed_frame.full_path.to_list()\n",
    "final_subject_ids = processed_frame.subject.to_numpy()\n",
    "final_side_ids = processed_frame.side.to_numpy()\n",
    "\n",
    "patch_width, patch_height = 400, 400\n",
    "start_time = time.time()\n",
    "\n",
    "for idx, image_path in enumerate(processed_image_paths):\n",
    "    image = cv2.imread(image_path)\n",
    "    image_height, image_width = image.shape[:2]\n",
    "    resized_width, resized_height = (math.ceil(dim/400) * 400 for dim in (image_width, image_height))\n",
    "    resized_image = cv2.resize(image, (resized_width, resized_height), interpolation=cv2.INTER_AREA)\n",
    "\n",
    "    for x in range(0, resized_width - patch_width + 1, patch_width):\n",
    "        for y in range(0, resized_height - patch_height + 1, patch_height):\n",
    "            cropped_image = resized_image[y:y+patch_height, x:x+patch_width]\n",
    "            if compute_foreground_ratio(cropped_image) > 0.8:\n",
    "                filename = os.path.join(PATCH_DIR, f'S{final_subject_ids[idx]}_{final_side_ids[idx]}', f'{idx}_{x//patch_width}-{y//patch_height}.png')\n",
    "                cv2.imwrite(filename, cropped_image)\n",
    "    print(time.time() - start_time)"
   ]
  },
  {
   "cell_type": "code",
   "execution_count": 3,
   "id": "4a2d3660-0320-41f2-8c55-23acdfef7c9d",
   "metadata": {
    "scrolled": true
   },
   "outputs": [],
   "source": [
    "# Load Data\n",
    "def make_old_dataframe(bh_folder, ext, name_replace_list, column_mapping):\n",
    "    '''Utility function to create dataframe from dataset'''    \n",
    "    data_entries = []\n",
    "    for root, _, files in os.walk(bh_folder):\n",
    "        for filename in files:\n",
    "            relative_path = os.path.relpath(root, bh_folder)\n",
    "            file_extension = os.path.splitext(filename)[-1]\n",
    "            if file_extension == ext:\n",
    "                try:\n",
    "                    full_path = os.path.join(root, filename)  # Compute the full path using the original filename\n",
    "                    for old, new in name_replace_list:\n",
    "                        filename = filename.replace(old, new)\n",
    "                    file_data = filename.replace(ext, \"\").split('_')\n",
    "                    row_data = dict(zip(column_mapping, [relative_path, filename, full_path] + file_data))\n",
    "                    data_entries.append(row_data)\n",
    "                except:\n",
    "                    pass\n",
    "    df = pd.DataFrame(data_entries)\n",
    "    for col, dtype in zip(column_mapping[3:], ['int'] * len(column_mapping[3:])):\n",
    "        df[col] = df[col].astype(dtype)\n",
    "    return df\n",
    "\n",
    "# Create DataFrames\n",
    "column_mapping_fold = ['relpath', 'filename', 'fullpath', 'subject']\n",
    "column_mapping_patch = ['subject', 'filename', 'fullpath', 'seq', 'y', 'x']\n",
    "\n",
    "fold_df = make_old_dataframe(SPLIT_DIR, '.jpg', [(\"T\", \"\")], column_mapping_fold)\n",
    "duv_patch_df = make_old_dataframe(PATCH_DIR, '.png', [(\"-\", \"_\")], column_mapping_patch)\n",
    "\n",
    "# Split Data\n",
    "test_split = [list(fold_df[fold_df['relpath'] == str(i)].subject.to_list()) for i in range(1, 6)]"
   ]
  },
  {
   "cell_type": "code",
   "execution_count": 4,
   "id": "fb57018e-294b-4c4c-8e74-584a9a151ef4",
   "metadata": {},
   "outputs": [],
   "source": [
    "import re\n",
    "\n",
    "def make_diffusion_dataframe(malignant_folder, normal_folder, ext, column_mapping):\n",
    "    '''Utility function to create dataframe from two datasets'''    \n",
    "    data_entries = []\n",
    "    \n",
    "    for folder, label in [(malignant_folder, \"malignant\"), (normal_folder, \"normal\")]:\n",
    "        for root, _, files in os.walk(folder):\n",
    "            for filename in files:\n",
    "                relative_path = os.path.relpath(root, folder)\n",
    "                file_extension = os.path.splitext(filename)[-1]\n",
    "                if file_extension == ext:\n",
    "                    try:\n",
    "                        full_path = os.path.join(root, filename)  # Compute the full path using the original filename\n",
    "                        \n",
    "                        # Extract numbers from the filename using regex\n",
    "                        numbers = re.findall(r\"\\d+\", filename)\n",
    "                        primary_number, secondary_number = numbers if len(numbers) == 2 else (numbers[0], None)\n",
    "                        \n",
    "                        row_data = dict(zip(column_mapping, [relative_path, filename, full_path, label, primary_number, secondary_number]))\n",
    "                        data_entries.append(row_data)\n",
    "                    except:\n",
    "                        pass\n",
    "                        \n",
    "    df = pd.DataFrame(data_entries)\n",
    "    df['primary_number'] = df['primary_number'].astype(int)\n",
    "    df['secondary_number'] = df['secondary_number'].astype(int)  # It can be NaN\n",
    "    return df\n",
    "\n",
    "# Modified column mapping to accommodate the changes\n",
    "column_mapping = ['relpath', 'filename', 'fullpath', 'label', 'primary_number', 'secondary_number']\n",
    "\n",
    "# Example usage\n",
    "diffusion_patch_df = make_diffusion_dataframe(\"diffusion_malignant\", \"diffusion_normal\", \".tif\", column_mapping)\n",
    "\n",
    "DIF_PATCH_FEATURES_DIR = os.path.join(BASE_PATH, 'diffusion_features')\n"
   ]
  },
  {
   "cell_type": "code",
   "execution_count": 4,
   "id": "9efbf5e6-7423-492f-a980-639807c1451a",
   "metadata": {
    "scrolled": true
   },
   "outputs": [],
   "source": [
    "# # # Feature Extraction\n",
    "# # You will have to restart kernel you don't have enough GPU VRAM, check with !nvidia-smi\n",
    "\n",
    "# if 'RNObject' not in locals():\n",
    "#     print('Making ResNet object.')\n",
    "#     RNObject = ResNetClass()\n",
    "\n",
    "# res50 = RNObject.get_resnet_model(layer_name='avg_pool')\n",
    "# RNObject.save_resnet_predictions(diffusion_patch_df, DIF_PATCH_FEATURES_DIR, res50, verbose=1, mode=1)"
   ]
  },
  {
   "cell_type": "code",
   "execution_count": 5,
   "id": "cbd2b0bb-1420-459a-9121-c27769600e34",
   "metadata": {},
   "outputs": [],
   "source": [
    "# Add Features to DataFrame\n",
    "def add_features_to_df(df, save_folder, version):\n",
    "    features = [np.load(os.path.join(save_folder, name + '.npy')).squeeze() for name in df[str(version)]]\n",
    "    df['features'] = features\n",
    "    return df\n",
    "    \n",
    "duv_patch_df = add_features_to_df(duv_patch_df, PATCH_FEATURES_DIR, version='filename')\n",
    "diffusion_patch_df = add_features_to_df(diffusion_patch_df, DIF_PATCH_FEATURES_DIR, version='filename')"
   ]
  },
  {
   "cell_type": "code",
   "execution_count": 6,
   "id": "24029323-75da-4cea-94f0-568d08789591",
   "metadata": {},
   "outputs": [],
   "source": [
    "# Load Features from Previous Analysis\n",
    "prior_data_df = pd.read_csv(PRIOR_PATCH_DATA_CSV)\n",
    "\n",
    "prior_data_df['subject'] = [int(x.replace(\"S\", \"\")) for x in prior_data_df.relpath]\n",
    "prior_data_df = add_features_to_df(prior_data_df, PRIOR_PATCH_FEATURES_DIR, 'name')"
   ]
  },
  {
   "cell_type": "code",
   "execution_count": 7,
   "id": "1406b472-8e39-4bcd-b055-150ed173e93b",
   "metadata": {},
   "outputs": [],
   "source": [
    "diffusion_patch_df['label'].replace({'malignant': 'M', 'normal': 'B'}, inplace=True)"
   ]
  },
  {
   "cell_type": "code",
   "execution_count": 8,
   "id": "9780cfad-c63b-40a7-8c45-1ffca3c23097",
   "metadata": {},
   "outputs": [
    {
     "name": "stderr",
     "output_type": "stream",
     "text": [
      "/tmp/ipykernel_687076/3494575485.py:30: SettingWithCopyWarning: \n",
      "A value is trying to be set on a copy of a slice from a DataFrame.\n",
      "Try using .loc[row_indexer,col_indexer] = value instead\n",
      "\n",
      "See the caveats in the documentation: https://pandas.pydata.org/pandas-docs/stable/user_guide/indexing.html#returning-a-view-versus-a-copy\n",
      "  filtered_df['Cancer Status'] = filtered_df['Specimen Type'].apply(get_cancer_status)\n"
     ]
    }
   ],
   "source": [
    "# Load data and extract information\n",
    "df = pd.read_excel(os.path.join(BASE_PATH, \"Specimen Tracking Log and Financial Logs.xlsx\"), sheet_name=0)\n",
    "extracted_df = df[[\"Sample #\", \"Type of Specimen (normal, IDC, ICL, tumor + adj normal)\"]].copy()\n",
    "extracted_df.columns = [\"Patient Subject ID\", \"Specimen Type\"]\n",
    "\n",
    "# Define the list of desired specimen types\n",
    "desired_specimen_types = [\n",
    "    \"breast cancer\",\n",
    "    \"IMC: Invasive Mucinous\",\n",
    "    \"IDC\",\n",
    "    \"IMC: IDC with lobular features\",\n",
    "    \"IMC: ILC\",\n",
    "    \"ILC\",\n",
    "    \"Invasive lobular carcinoma\",\n",
    "    \"fibroadenoma\",\n",
    "    \"normal breast tissue\",\n",
    "    \"normal\"\n",
    "]\n",
    "\n",
    "# Filter the dataframe\n",
    "filtered_df = extracted_df[extracted_df['Specimen Type'].isin(desired_specimen_types)]\n",
    "\n",
    "def get_cancer_status(specimen_type):\n",
    "    benign_types = [\"normal\", \"fibroadenoma\", \"normal breast tissue\"]\n",
    "    if specimen_type in benign_types:\n",
    "        return 'B'\n",
    "    else:\n",
    "        return 'M'\n",
    "\n",
    "filtered_df['Cancer Status'] = filtered_df['Specimen Type'].apply(get_cancer_status)"
   ]
  },
  {
   "cell_type": "code",
   "execution_count": 11,
   "id": "e42d7ad0-7226-420f-a1be-aa8f9816f74e",
   "metadata": {},
   "outputs": [
    {
     "data": {
      "text/html": [
       "<div>\n",
       "<style scoped>\n",
       "    .dataframe tbody tr th:only-of-type {\n",
       "        vertical-align: middle;\n",
       "    }\n",
       "\n",
       "    .dataframe tbody tr th {\n",
       "        vertical-align: top;\n",
       "    }\n",
       "\n",
       "    .dataframe thead th {\n",
       "        text-align: right;\n",
       "    }\n",
       "</style>\n",
       "<table border=\"1\" class=\"dataframe\">\n",
       "  <thead>\n",
       "    <tr style=\"text-align: right;\">\n",
       "      <th></th>\n",
       "      <th>subject</th>\n",
       "      <th>filename</th>\n",
       "      <th>fullpath</th>\n",
       "      <th>seq</th>\n",
       "      <th>y</th>\n",
       "      <th>x</th>\n",
       "      <th>features</th>\n",
       "    </tr>\n",
       "  </thead>\n",
       "  <tbody>\n",
       "    <tr>\n",
       "      <th>0</th>\n",
       "      <td>S82_2</td>\n",
       "      <td>44_13_8.png</td>\n",
       "      <td>/workspace/0728tot/last_experiment/unknown_Pat...</td>\n",
       "      <td>44</td>\n",
       "      <td>13</td>\n",
       "      <td>8</td>\n",
       "      <td>[0.5293978, 0.0, 0.031304058, 0.024001367, 1.8...</td>\n",
       "    </tr>\n",
       "    <tr>\n",
       "      <th>1</th>\n",
       "      <td>S82_2</td>\n",
       "      <td>44_11_2.png</td>\n",
       "      <td>/workspace/0728tot/last_experiment/unknown_Pat...</td>\n",
       "      <td>44</td>\n",
       "      <td>11</td>\n",
       "      <td>2</td>\n",
       "      <td>[0.9896475, 0.0, 0.0, 0.22777031, 0.048390884,...</td>\n",
       "    </tr>\n",
       "    <tr>\n",
       "      <th>2</th>\n",
       "      <td>S82_2</td>\n",
       "      <td>44_0_3.png</td>\n",
       "      <td>/workspace/0728tot/last_experiment/unknown_Pat...</td>\n",
       "      <td>44</td>\n",
       "      <td>0</td>\n",
       "      <td>3</td>\n",
       "      <td>[0.2669169, 0.0, 0.13216071, 0.0844125, 0.0818...</td>\n",
       "    </tr>\n",
       "    <tr>\n",
       "      <th>3</th>\n",
       "      <td>S82_2</td>\n",
       "      <td>44_6_4.png</td>\n",
       "      <td>/workspace/0728tot/last_experiment/unknown_Pat...</td>\n",
       "      <td>44</td>\n",
       "      <td>6</td>\n",
       "      <td>4</td>\n",
       "      <td>[1.4421592, 0.0, 0.16970389, 0.95852107, 0.241...</td>\n",
       "    </tr>\n",
       "    <tr>\n",
       "      <th>4</th>\n",
       "      <td>S82_2</td>\n",
       "      <td>44_2_4.png</td>\n",
       "      <td>/workspace/0728tot/last_experiment/unknown_Pat...</td>\n",
       "      <td>44</td>\n",
       "      <td>2</td>\n",
       "      <td>4</td>\n",
       "      <td>[0.9964333, 0.2090966, 0.27250272, 0.001423189...</td>\n",
       "    </tr>\n",
       "    <tr>\n",
       "      <th>...</th>\n",
       "      <td>...</td>\n",
       "      <td>...</td>\n",
       "      <td>...</td>\n",
       "      <td>...</td>\n",
       "      <td>...</td>\n",
       "      <td>...</td>\n",
       "      <td>...</td>\n",
       "    </tr>\n",
       "    <tr>\n",
       "      <th>30148</th>\n",
       "      <td>S92_1</td>\n",
       "      <td>67_5_15.png</td>\n",
       "      <td>/workspace/0728tot/last_experiment/unknown_Pat...</td>\n",
       "      <td>67</td>\n",
       "      <td>5</td>\n",
       "      <td>15</td>\n",
       "      <td>[0.62066966, 0.0, 0.0, 0.0, 0.004477279, 0.0, ...</td>\n",
       "    </tr>\n",
       "    <tr>\n",
       "      <th>30149</th>\n",
       "      <td>S92_1</td>\n",
       "      <td>67_15_12.png</td>\n",
       "      <td>/workspace/0728tot/last_experiment/unknown_Pat...</td>\n",
       "      <td>67</td>\n",
       "      <td>15</td>\n",
       "      <td>12</td>\n",
       "      <td>[3.6157215, 0.0, 0.029128622, 0.0037973328, 0....</td>\n",
       "    </tr>\n",
       "    <tr>\n",
       "      <th>30150</th>\n",
       "      <td>S92_1</td>\n",
       "      <td>67_20_10.png</td>\n",
       "      <td>/workspace/0728tot/last_experiment/unknown_Pat...</td>\n",
       "      <td>67</td>\n",
       "      <td>20</td>\n",
       "      <td>10</td>\n",
       "      <td>[3.205265, 0.00070112577, 0.028292198, 0.0, 0....</td>\n",
       "    </tr>\n",
       "    <tr>\n",
       "      <th>30151</th>\n",
       "      <td>S92_1</td>\n",
       "      <td>67_30_16.png</td>\n",
       "      <td>/workspace/0728tot/last_experiment/unknown_Pat...</td>\n",
       "      <td>67</td>\n",
       "      <td>30</td>\n",
       "      <td>16</td>\n",
       "      <td>[0.038404655, 0.0055522625, 0.0, 0.0, 0.0, 0.0...</td>\n",
       "    </tr>\n",
       "    <tr>\n",
       "      <th>30152</th>\n",
       "      <td>S92_1</td>\n",
       "      <td>67_7_16.png</td>\n",
       "      <td>/workspace/0728tot/last_experiment/unknown_Pat...</td>\n",
       "      <td>67</td>\n",
       "      <td>7</td>\n",
       "      <td>16</td>\n",
       "      <td>[1.7537882, 0.0, 0.0, 0.0, 0.047009155, 0.0104...</td>\n",
       "    </tr>\n",
       "  </tbody>\n",
       "</table>\n",
       "<p>30153 rows × 7 columns</p>\n",
       "</div>"
      ],
      "text/plain": [
       "      subject      filename  \\\n",
       "0       S82_2   44_13_8.png   \n",
       "1       S82_2   44_11_2.png   \n",
       "2       S82_2    44_0_3.png   \n",
       "3       S82_2    44_6_4.png   \n",
       "4       S82_2    44_2_4.png   \n",
       "...       ...           ...   \n",
       "30148   S92_1   67_5_15.png   \n",
       "30149   S92_1  67_15_12.png   \n",
       "30150   S92_1  67_20_10.png   \n",
       "30151   S92_1  67_30_16.png   \n",
       "30152   S92_1   67_7_16.png   \n",
       "\n",
       "                                                fullpath  seq   y   x  \\\n",
       "0      /workspace/0728tot/last_experiment/unknown_Pat...   44  13   8   \n",
       "1      /workspace/0728tot/last_experiment/unknown_Pat...   44  11   2   \n",
       "2      /workspace/0728tot/last_experiment/unknown_Pat...   44   0   3   \n",
       "3      /workspace/0728tot/last_experiment/unknown_Pat...   44   6   4   \n",
       "4      /workspace/0728tot/last_experiment/unknown_Pat...   44   2   4   \n",
       "...                                                  ...  ...  ..  ..   \n",
       "30148  /workspace/0728tot/last_experiment/unknown_Pat...   67   5  15   \n",
       "30149  /workspace/0728tot/last_experiment/unknown_Pat...   67  15  12   \n",
       "30150  /workspace/0728tot/last_experiment/unknown_Pat...   67  20  10   \n",
       "30151  /workspace/0728tot/last_experiment/unknown_Pat...   67  30  16   \n",
       "30152  /workspace/0728tot/last_experiment/unknown_Pat...   67   7  16   \n",
       "\n",
       "                                                features  \n",
       "0      [0.5293978, 0.0, 0.031304058, 0.024001367, 1.8...  \n",
       "1      [0.9896475, 0.0, 0.0, 0.22777031, 0.048390884,...  \n",
       "2      [0.2669169, 0.0, 0.13216071, 0.0844125, 0.0818...  \n",
       "3      [1.4421592, 0.0, 0.16970389, 0.95852107, 0.241...  \n",
       "4      [0.9964333, 0.2090966, 0.27250272, 0.001423189...  \n",
       "...                                                  ...  \n",
       "30148  [0.62066966, 0.0, 0.0, 0.0, 0.004477279, 0.0, ...  \n",
       "30149  [3.6157215, 0.0, 0.029128622, 0.0037973328, 0....  \n",
       "30150  [3.205265, 0.00070112577, 0.028292198, 0.0, 0....  \n",
       "30151  [0.038404655, 0.0055522625, 0.0, 0.0, 0.0, 0.0...  \n",
       "30152  [1.7537882, 0.0, 0.0, 0.0, 0.047009155, 0.0104...  \n",
       "\n",
       "[30153 rows x 7 columns]"
      ]
     },
     "execution_count": 11,
     "metadata": {},
     "output_type": "execute_result"
    }
   ],
   "source": [
    "duv_patch_df"
   ]
  },
  {
   "cell_type": "code",
   "execution_count": 9,
   "id": "2ba59f64-6e34-41d3-97cb-55218f7c1829",
   "metadata": {},
   "outputs": [],
   "source": [
    "duv_patch_df['subject'] = duv_patch_df['subject'].str.replace('S', '')\n",
    "duv_patch_df['actual_subject'] = duv_patch_df['subject'].str.split('_').str[0].astype(int)\n",
    "duv_patch_df = duv_patch_df[duv_patch_df['actual_subject'].isin(filtered_df['Patient Subject ID'].values)]"
   ]
  },
  {
   "cell_type": "code",
   "execution_count": 10,
   "id": "bb74aed5-b6ca-4f13-9c4f-98c0e8018ec4",
   "metadata": {
    "scrolled": true
   },
   "outputs": [
    {
     "data": {
      "text/html": [
       "<div>\n",
       "<style scoped>\n",
       "    .dataframe tbody tr th:only-of-type {\n",
       "        vertical-align: middle;\n",
       "    }\n",
       "\n",
       "    .dataframe tbody tr th {\n",
       "        vertical-align: top;\n",
       "    }\n",
       "\n",
       "    .dataframe thead th {\n",
       "        text-align: right;\n",
       "    }\n",
       "</style>\n",
       "<table border=\"1\" class=\"dataframe\">\n",
       "  <thead>\n",
       "    <tr style=\"text-align: right;\">\n",
       "      <th></th>\n",
       "      <th>subject</th>\n",
       "      <th>filename</th>\n",
       "      <th>fullpath</th>\n",
       "      <th>seq</th>\n",
       "      <th>y</th>\n",
       "      <th>x</th>\n",
       "      <th>features</th>\n",
       "      <th>actual_subject</th>\n",
       "    </tr>\n",
       "  </thead>\n",
       "  <tbody>\n",
       "    <tr>\n",
       "      <th>0</th>\n",
       "      <td>82_2</td>\n",
       "      <td>44_13_8.png</td>\n",
       "      <td>/workspace/0728tot/last_experiment/unknown_Pat...</td>\n",
       "      <td>44</td>\n",
       "      <td>13</td>\n",
       "      <td>8</td>\n",
       "      <td>[0.5293978, 0.0, 0.031304058, 0.024001367, 1.8...</td>\n",
       "      <td>82</td>\n",
       "    </tr>\n",
       "    <tr>\n",
       "      <th>1</th>\n",
       "      <td>82_2</td>\n",
       "      <td>44_11_2.png</td>\n",
       "      <td>/workspace/0728tot/last_experiment/unknown_Pat...</td>\n",
       "      <td>44</td>\n",
       "      <td>11</td>\n",
       "      <td>2</td>\n",
       "      <td>[0.9896475, 0.0, 0.0, 0.22777031, 0.048390884,...</td>\n",
       "      <td>82</td>\n",
       "    </tr>\n",
       "    <tr>\n",
       "      <th>2</th>\n",
       "      <td>82_2</td>\n",
       "      <td>44_0_3.png</td>\n",
       "      <td>/workspace/0728tot/last_experiment/unknown_Pat...</td>\n",
       "      <td>44</td>\n",
       "      <td>0</td>\n",
       "      <td>3</td>\n",
       "      <td>[0.2669169, 0.0, 0.13216071, 0.0844125, 0.0818...</td>\n",
       "      <td>82</td>\n",
       "    </tr>\n",
       "    <tr>\n",
       "      <th>3</th>\n",
       "      <td>82_2</td>\n",
       "      <td>44_6_4.png</td>\n",
       "      <td>/workspace/0728tot/last_experiment/unknown_Pat...</td>\n",
       "      <td>44</td>\n",
       "      <td>6</td>\n",
       "      <td>4</td>\n",
       "      <td>[1.4421592, 0.0, 0.16970389, 0.95852107, 0.241...</td>\n",
       "      <td>82</td>\n",
       "    </tr>\n",
       "    <tr>\n",
       "      <th>4</th>\n",
       "      <td>82_2</td>\n",
       "      <td>44_2_4.png</td>\n",
       "      <td>/workspace/0728tot/last_experiment/unknown_Pat...</td>\n",
       "      <td>44</td>\n",
       "      <td>2</td>\n",
       "      <td>4</td>\n",
       "      <td>[0.9964333, 0.2090966, 0.27250272, 0.001423189...</td>\n",
       "      <td>82</td>\n",
       "    </tr>\n",
       "    <tr>\n",
       "      <th>...</th>\n",
       "      <td>...</td>\n",
       "      <td>...</td>\n",
       "      <td>...</td>\n",
       "      <td>...</td>\n",
       "      <td>...</td>\n",
       "      <td>...</td>\n",
       "      <td>...</td>\n",
       "      <td>...</td>\n",
       "    </tr>\n",
       "    <tr>\n",
       "      <th>30148</th>\n",
       "      <td>92_1</td>\n",
       "      <td>67_5_15.png</td>\n",
       "      <td>/workspace/0728tot/last_experiment/unknown_Pat...</td>\n",
       "      <td>67</td>\n",
       "      <td>5</td>\n",
       "      <td>15</td>\n",
       "      <td>[0.62066966, 0.0, 0.0, 0.0, 0.004477279, 0.0, ...</td>\n",
       "      <td>92</td>\n",
       "    </tr>\n",
       "    <tr>\n",
       "      <th>30149</th>\n",
       "      <td>92_1</td>\n",
       "      <td>67_15_12.png</td>\n",
       "      <td>/workspace/0728tot/last_experiment/unknown_Pat...</td>\n",
       "      <td>67</td>\n",
       "      <td>15</td>\n",
       "      <td>12</td>\n",
       "      <td>[3.6157215, 0.0, 0.029128622, 0.0037973328, 0....</td>\n",
       "      <td>92</td>\n",
       "    </tr>\n",
       "    <tr>\n",
       "      <th>30150</th>\n",
       "      <td>92_1</td>\n",
       "      <td>67_20_10.png</td>\n",
       "      <td>/workspace/0728tot/last_experiment/unknown_Pat...</td>\n",
       "      <td>67</td>\n",
       "      <td>20</td>\n",
       "      <td>10</td>\n",
       "      <td>[3.205265, 0.00070112577, 0.028292198, 0.0, 0....</td>\n",
       "      <td>92</td>\n",
       "    </tr>\n",
       "    <tr>\n",
       "      <th>30151</th>\n",
       "      <td>92_1</td>\n",
       "      <td>67_30_16.png</td>\n",
       "      <td>/workspace/0728tot/last_experiment/unknown_Pat...</td>\n",
       "      <td>67</td>\n",
       "      <td>30</td>\n",
       "      <td>16</td>\n",
       "      <td>[0.038404655, 0.0055522625, 0.0, 0.0, 0.0, 0.0...</td>\n",
       "      <td>92</td>\n",
       "    </tr>\n",
       "    <tr>\n",
       "      <th>30152</th>\n",
       "      <td>92_1</td>\n",
       "      <td>67_7_16.png</td>\n",
       "      <td>/workspace/0728tot/last_experiment/unknown_Pat...</td>\n",
       "      <td>67</td>\n",
       "      <td>7</td>\n",
       "      <td>16</td>\n",
       "      <td>[1.7537882, 0.0, 0.0, 0.0, 0.047009155, 0.0104...</td>\n",
       "      <td>92</td>\n",
       "    </tr>\n",
       "  </tbody>\n",
       "</table>\n",
       "<p>27443 rows × 8 columns</p>\n",
       "</div>"
      ],
      "text/plain": [
       "      subject      filename  \\\n",
       "0        82_2   44_13_8.png   \n",
       "1        82_2   44_11_2.png   \n",
       "2        82_2    44_0_3.png   \n",
       "3        82_2    44_6_4.png   \n",
       "4        82_2    44_2_4.png   \n",
       "...       ...           ...   \n",
       "30148    92_1   67_5_15.png   \n",
       "30149    92_1  67_15_12.png   \n",
       "30150    92_1  67_20_10.png   \n",
       "30151    92_1  67_30_16.png   \n",
       "30152    92_1   67_7_16.png   \n",
       "\n",
       "                                                fullpath  seq   y   x  \\\n",
       "0      /workspace/0728tot/last_experiment/unknown_Pat...   44  13   8   \n",
       "1      /workspace/0728tot/last_experiment/unknown_Pat...   44  11   2   \n",
       "2      /workspace/0728tot/last_experiment/unknown_Pat...   44   0   3   \n",
       "3      /workspace/0728tot/last_experiment/unknown_Pat...   44   6   4   \n",
       "4      /workspace/0728tot/last_experiment/unknown_Pat...   44   2   4   \n",
       "...                                                  ...  ...  ..  ..   \n",
       "30148  /workspace/0728tot/last_experiment/unknown_Pat...   67   5  15   \n",
       "30149  /workspace/0728tot/last_experiment/unknown_Pat...   67  15  12   \n",
       "30150  /workspace/0728tot/last_experiment/unknown_Pat...   67  20  10   \n",
       "30151  /workspace/0728tot/last_experiment/unknown_Pat...   67  30  16   \n",
       "30152  /workspace/0728tot/last_experiment/unknown_Pat...   67   7  16   \n",
       "\n",
       "                                                features  actual_subject  \n",
       "0      [0.5293978, 0.0, 0.031304058, 0.024001367, 1.8...              82  \n",
       "1      [0.9896475, 0.0, 0.0, 0.22777031, 0.048390884,...              82  \n",
       "2      [0.2669169, 0.0, 0.13216071, 0.0844125, 0.0818...              82  \n",
       "3      [1.4421592, 0.0, 0.16970389, 0.95852107, 0.241...              82  \n",
       "4      [0.9964333, 0.2090966, 0.27250272, 0.001423189...              82  \n",
       "...                                                  ...             ...  \n",
       "30148  [0.62066966, 0.0, 0.0, 0.0, 0.004477279, 0.0, ...              92  \n",
       "30149  [3.6157215, 0.0, 0.029128622, 0.0037973328, 0....              92  \n",
       "30150  [3.205265, 0.00070112577, 0.028292198, 0.0, 0....              92  \n",
       "30151  [0.038404655, 0.0055522625, 0.0, 0.0, 0.0, 0.0...              92  \n",
       "30152  [1.7537882, 0.0, 0.0, 0.0, 0.047009155, 0.0104...              92  \n",
       "\n",
       "[27443 rows x 8 columns]"
      ]
     },
     "execution_count": 10,
     "metadata": {},
     "output_type": "execute_result"
    }
   ],
   "source": [
    "duv_patch_df"
   ]
  },
  {
   "cell_type": "code",
   "execution_count": 14,
   "id": "486d69bc-e9a3-4c9e-9c01-b9b6edc586d6",
   "metadata": {},
   "outputs": [],
   "source": [
    "XGBOOST_MODELS_DIR = os.path.join(BASE_PATH, 'saved_xgboost_models')\n",
    "\n",
    "# Train and Save XGBoost Models\n",
    "if not os.path.exists(XGBOOST_MODELS_DIR):\n",
    "    os.makedirs(XGBOOST_MODELS_DIR)\n",
    "\n",
    "prediction, truth, patc, frames = [], [], [], []\n",
    "\n",
    "for i in range(5):\n",
    "    df_train = prior_data_df[~prior_data_df['subject'].isin(test_split[i])]\n",
    "    df_test = duv_patch_df.copy()\n",
    "\n",
    "    features_train = np.array(list(df_train['features']))\n",
    "    features_diffusion = np.array(list(diffusion_patch_df['features']))\n",
    "    X_train = np.concatenate([features_train, features_diffusion], axis=0)\n",
    "    \n",
    "    labels_train = np.array(df_train['Class'])\n",
    "    labels_diffusion = np.array(diffusion_patch_df['label'])\n",
    "    y_train = np.concatenate([labels_train, labels_diffusion], axis=0)\n",
    "    \n",
    "    X_test = np.array(list(df_test['features']))\n",
    "\n",
    "    xgb_clf = XGBClassifier()\n",
    "    xgb_clf.fit(X_train, y_train)\n",
    "    y_pred = xgb_clf.predict(X_test)\n",
    "\n",
    "    model_path = os.path.join(XGBOOST_MODELS_DIR, f'xgboost_model_{i}.model')\n",
    "    xgb_clf.save_model(model_path)\n",
    "\n",
    "    df_test['pred'] = y_pred\n",
    "    frames.append(df_test)\n",
    "    prediction.append(y_pred)\n",
    "    patc.append(df_test['subject'].to_numpy())"
   ]
  },
  {
   "cell_type": "code",
   "execution_count": 11,
   "id": "f44c991e-c9d5-48e6-958c-b3e45f36db2e",
   "metadata": {},
   "outputs": [],
   "source": [
    "XGBOOST_MODELS_DIR = os.path.join(BASE_PATH, 'saved_xgboost_models')\n",
    "\n",
    "# Train and Save XGBoost Models\n",
    "if not os.path.exists(XGBOOST_MODELS_DIR):\n",
    "    os.makedirs(XGBOOST_MODELS_DIR)\n",
    "\n",
    "prediction, truth, patc, frames = [], [], [], []\n",
    "\n",
    "for i in range(5):\n",
    "    df_train = prior_data_df[~prior_data_df['subject'].isin(test_split[i])]\n",
    "    df_test = duv_patch_df.copy()\n",
    "\n",
    "    X_train = np.array(list(df_train['features']))\n",
    "    \n",
    "    y_train = np.array(df_train['Class'])\n",
    "    \n",
    "    X_test = np.array(list(df_test['features']))\n",
    "\n",
    "    xgb_clf = XGBClassifier()\n",
    "    xgb_clf.fit(X_train, y_train)\n",
    "    y_pred = xgb_clf.predict(X_test)\n",
    "\n",
    "    model_path = os.path.join(XGBOOST_MODELS_DIR, f'original_xgboost_model_{i}.model')\n",
    "    xgb_clf.save_model(model_path)\n",
    "\n",
    "    df_test['pred'] = y_pred\n",
    "    frames.append(df_test)\n",
    "    prediction.append(y_pred)\n",
    "    patc.append(df_test['subject'].to_numpy())"
   ]
  },
  {
   "cell_type": "code",
   "execution_count": 12,
   "id": "56bedf9d-f5cf-47c5-a555-0e345bffc59b",
   "metadata": {
    "scrolled": true
   },
   "outputs": [],
   "source": [
    "# Load Models and Perform Inference\n",
    "# frames_inference, prediction_inference, patc_inference = [], [], []\n",
    "\n",
    "# for i in range(5):\n",
    "#     df_test = duv_patch_df.copy()\n",
    "#     X_test = np.array(list(df_test['features']))\n",
    "\n",
    "#     model_path = os.path.join(XGBOOST_MODELS_DIR, f'xgboost_model_{i}.model')\n",
    "#     loaded_model = XGBClassifier(tree_method='hist')\n",
    "#     loaded_model.load_model(model_path)\n",
    "    \n",
    "#     y_pred_loaded_model = loaded_model.predict(X_test)\n",
    "    \n",
    "#     df_test['pred'] = y_pred_loaded_model\n",
    "#     frames_inference.append(df_test)\n",
    "#     prediction_inference.append(y_pred_loaded_model)\n",
    "#     patc_inference.append(df_test['subject'].to_numpy())\n",
    "\n",
    "# Combine Predictions and Get Majority Value\n",
    "fulldata = pd.DataFrame()\n",
    "for f in frames:\n",
    "    fulldata = pd.concat([fulldata, f['pred']], axis=1)\n",
    "\n",
    "def get_majority_value(df):\n",
    "    counts = df.apply(lambda row: row.value_counts(), axis=1)\n",
    "    counts = counts.fillna(0)\n",
    "    return np.where(counts['B'] > counts['M'], 'B', 'M')\n",
    "\n",
    "maj = get_majority_value(fulldata)\n",
    "duv_patch_df['Pred'] = maj\n",
    "#duv_patch_df = duv_patch_df.drop('pred', axis=1)"
   ]
  },
  {
   "cell_type": "code",
   "execution_count": 13,
   "id": "d5ccb607-bb19-4267-9329-f2497f3120b4",
   "metadata": {},
   "outputs": [],
   "source": [
    "temp_df = duv_patch_df.merge(filtered_df, left_on='actual_subject', right_on='Patient Subject ID', how='left')"
   ]
  },
  {
   "cell_type": "code",
   "execution_count": 17,
   "id": "eb0eb5d2-a81e-40bd-8943-f901d3094537",
   "metadata": {},
   "outputs": [
    {
     "name": "stdout",
     "output_type": "stream",
     "text": [
      "              precision    recall  f1-score   support\n",
      "\n",
      "           B       0.51      0.92      0.66      6210\n",
      "           M       0.97      0.75      0.84     21233\n",
      "\n",
      "    accuracy                           0.78     27443\n",
      "   macro avg       0.74      0.83      0.75     27443\n",
      "weighted avg       0.86      0.78      0.80     27443\n",
      "\n"
     ]
    }
   ],
   "source": [
    "print(classification_report(temp_df['Cancer Status'], temp_df.Pred))"
   ]
  },
  {
   "cell_type": "code",
   "execution_count": 14,
   "id": "ffb949f6-d631-4756-a0d5-a936e0d964f1",
   "metadata": {},
   "outputs": [
    {
     "name": "stdout",
     "output_type": "stream",
     "text": [
      "              precision    recall  f1-score   support\n",
      "\n",
      "           B       0.53      0.88      0.66      6210\n",
      "           M       0.96      0.77      0.85     21233\n",
      "\n",
      "    accuracy                           0.80     27443\n",
      "   macro avg       0.74      0.82      0.76     27443\n",
      "weighted avg       0.86      0.80      0.81     27443\n",
      "\n"
     ]
    }
   ],
   "source": [
    "print(classification_report(temp_df['Cancer Status'], temp_df.Pred))"
   ]
  },
  {
   "cell_type": "code",
   "execution_count": 18,
   "id": "51c7f472-17ce-4b77-abde-9ea48e4fe355",
   "metadata": {},
   "outputs": [
    {
     "data": {
      "text/plain": [
       "array(['IDC', 'normal', 'IMC: Invasive Mucinous',\n",
       "       'IMC: IDC with lobular features', 'IMC: ILC', 'ILC', 'lymph node',\n",
       "       'High grade carcinoma in lymph node', 'normal tongue',\n",
       "       'tongue tumor: invasive squamous cell carcinoma',\n",
       "       'normal breast tissue', 'osteosarcoma from mandible',\n",
       "       'fibroadenoma', 'Invasive lobular carcinoma'], dtype=object)"
      ]
     },
     "execution_count": 18,
     "metadata": {},
     "output_type": "execute_result"
    }
   ],
   "source": [
    "extracted_df['Specimen Type'].unique()\n",
    "\n",
    "# breast cancer\n",
    "# IMC: Invasive Mucinous\n",
    "# IDC\n",
    "# IMC: IDC with lobular features\n",
    "# IMC: ILC\n",
    "# ILC\n",
    "# Invasive lobular carcinoma\n",
    "\n",
    "# Normal\n",
    "# fibroadenoma\n",
    "# normal breast tissue"
   ]
  },
  {
   "cell_type": "code",
   "execution_count": 19,
   "id": "9dfe3044-3c07-43e8-8a80-b588f57381bb",
   "metadata": {},
   "outputs": [],
   "source": [
    "def visualize_cam(mask, img):\n",
    "    \"\"\"Make heatmap from mask and synthesize GradCAM result image using heatmap and img.\n",
    "    Args:\n",
    "        mask (torch.tensor): mask shape of (1, 1, H, W) and each element has value in range [0, 1]\n",
    "        img (torch.tensor): img shape of (1, 3, H, W) and each pixel value is in range [0, 1]\n",
    "        \n",
    "    Return:\n",
    "        heatmap (torch.tensor): heatmap img shape of (3, H, W)\n",
    "        result (torch.tensor): synthesized GradCAM result of same shape with heatmap.\n",
    "    \"\"\"\n",
    "    heatmap = cv2.applyColorMap(np.uint8(255 * mask.squeeze()), cv2.COLORMAP_JET)\n",
    "    heatmap = torch.from_numpy(heatmap).permute(2, 0, 1).float().div(255)\n",
    "    b, g, r = heatmap.split(1)\n",
    "    heatmap = torch.cat([r, g, b])\n",
    "    \n",
    "    result = heatmap+img.cpu()\n",
    "    result = result.div(result.max()).squeeze()\n",
    "    \n",
    "    return heatmap, result\n",
    "\n",
    "\n",
    "def find_resnet_layer(arch, target_layer_name):\n",
    "    \"\"\"Find resnet layer to calculate GradCAM and GradCAM++\n",
    "    \n",
    "    Args:\n",
    "        arch: default torchvision densenet models\n",
    "        target_layer_name (str): the name of layer with its hierarchical information. please refer to usages below.\n",
    "            target_layer_name = 'conv1'\n",
    "            target_layer_name = 'layer1'\n",
    "            target_layer_name = 'layer1_basicblock0'\n",
    "            target_layer_name = 'layer1_basicblock0_relu'\n",
    "            target_layer_name = 'layer1_bottleneck0'\n",
    "            target_layer_name = 'layer1_bottleneck0_conv1'\n",
    "            target_layer_name = 'layer1_bottleneck0_downsample'\n",
    "            target_layer_name = 'layer1_bottleneck0_downsample_0'\n",
    "            target_layer_name = 'avgpool'\n",
    "            target_layer_name = 'fc'\n",
    "            \n",
    "    Return:\n",
    "        target_layer: found layer. this layer will be hooked to get forward/backward pass information.\n",
    "    \"\"\"\n",
    "    if 'layer' in target_layer_name:\n",
    "        hierarchy = target_layer_name.split('_')\n",
    "        layer_num = int(hierarchy[0].lstrip('layer'))\n",
    "        if layer_num == 1:\n",
    "            target_layer = arch.layer1\n",
    "        elif layer_num == 2:\n",
    "            target_layer = arch.layer2\n",
    "        elif layer_num == 3:\n",
    "            target_layer = arch.layer3\n",
    "        elif layer_num == 4:\n",
    "            target_layer = arch.layer4\n",
    "        else:\n",
    "            raise ValueError('unknown layer : {}'.format(target_layer_name))\n",
    "\n",
    "        if len(hierarchy) >= 2:\n",
    "            bottleneck_num = int(hierarchy[1].lower().lstrip('bottleneck').lstrip('basicblock'))\n",
    "            target_layer = target_layer[bottleneck_num]\n",
    "\n",
    "        if len(hierarchy) >= 3:\n",
    "            target_layer = target_layer._modules[hierarchy[2]]\n",
    "                \n",
    "        if len(hierarchy) == 4:\n",
    "            target_layer = target_layer._modules[hierarchy[3]]\n",
    "\n",
    "    else:\n",
    "        target_layer = arch._modules[target_layer_name]\n",
    "\n",
    "    return target_layer\n",
    "\n",
    "\n",
    "def find_densenet_layer(arch, target_layer_name):\n",
    "    \"\"\"Find densenet layer to calculate GradCAM and GradCAM++\n",
    "    \n",
    "    Args:\n",
    "        arch: default torchvision densenet models\n",
    "        target_layer_name (str): the name of layer with its hierarchical information. please refer to usages below.\n",
    "            target_layer_name = 'features'\n",
    "            target_layer_name = 'features_transition1'\n",
    "            target_layer_name = 'features_transition1_norm'\n",
    "            target_layer_name = 'features_denseblock2_denselayer12'\n",
    "            target_layer_name = 'features_denseblock2_denselayer12_norm1'\n",
    "            target_layer_name = 'features_denseblock2_denselayer12_norm1'\n",
    "            target_layer_name = 'classifier'\n",
    "            \n",
    "    Return:\n",
    "        target_layer: found layer. this layer will be hooked to get forward/backward pass information.\n",
    "    \"\"\"\n",
    "    \n",
    "    hierarchy = target_layer_name.split('_')\n",
    "    target_layer = arch._modules[hierarchy[0]]\n",
    "\n",
    "    if len(hierarchy) >= 2:\n",
    "        target_layer = target_layer._modules[hierarchy[1]]\n",
    "\n",
    "    if len(hierarchy) >= 3:\n",
    "        target_layer = target_layer._modules[hierarchy[2]]\n",
    "\n",
    "    if len(hierarchy) == 4:\n",
    "        target_layer = target_layer._modules[hierarchy[3]]\n",
    "\n",
    "    return target_layer\n",
    "\n",
    "\n",
    "def find_vgg_layer(arch, target_layer_name):\n",
    "    \"\"\"Find vgg layer to calculate GradCAM and GradCAM++\n",
    "    \n",
    "    Args:\n",
    "        arch: default torchvision densenet models\n",
    "        target_layer_name (str): the name of layer with its hierarchical information. please refer to usages below.\n",
    "            target_layer_name = 'features'\n",
    "            target_layer_name = 'features_42'\n",
    "            target_layer_name = 'classifier'\n",
    "            target_layer_name = 'classifier_0'\n",
    "            \n",
    "    Return:\n",
    "        target_layer: found layer. this layer will be hooked to get forward/backward pass information.\n",
    "    \"\"\"\n",
    "    hierarchy = target_layer_name.split('_')\n",
    "\n",
    "    if len(hierarchy) >= 1:\n",
    "        target_layer = arch.features\n",
    "\n",
    "    if len(hierarchy) == 2:\n",
    "        target_layer = target_layer[int(hierarchy[1])]\n",
    "\n",
    "    return target_layer\n",
    "\n",
    "\n",
    "def find_alexnet_layer(arch, target_layer_name):\n",
    "    \"\"\"Find alexnet layer to calculate GradCAM and GradCAM++\n",
    "    \n",
    "    Args:\n",
    "        arch: default torchvision densenet models\n",
    "        target_layer_name (str): the name of layer with its hierarchical information. please refer to usages below.\n",
    "            target_layer_name = 'features'\n",
    "            target_layer_name = 'features_0'\n",
    "            target_layer_name = 'classifier'\n",
    "            target_layer_name = 'classifier_0'\n",
    "            \n",
    "    Return:\n",
    "        target_layer: found layer. this layer will be hooked to get forward/backward pass information.\n",
    "    \"\"\"\n",
    "    hierarchy = target_layer_name.split('_')\n",
    "\n",
    "    if len(hierarchy) >= 1:\n",
    "        target_layer = arch.features\n",
    "\n",
    "    if len(hierarchy) == 2:\n",
    "        target_layer = target_layer[int(hierarchy[1])]\n",
    "\n",
    "    return target_layer\n",
    "\n",
    "\n",
    "def find_squeezenet_layer(arch, target_layer_name):\n",
    "    \"\"\"Find squeezenet layer to calculate GradCAM and GradCAM++\n",
    "    \n",
    "    Args:\n",
    "        arch: default torchvision densenet models\n",
    "        target_layer_name (str): the name of layer with its hierarchical information. please refer to usages below.\n",
    "            target_layer_name = 'features_12'\n",
    "            target_layer_name = 'features_12_expand3x3'\n",
    "            target_layer_name = 'features_12_expand3x3_activation'\n",
    "            \n",
    "    Return:\n",
    "        target_layer: found layer. this layer will be hooked to get forward/backward pass information.\n",
    "    \"\"\"\n",
    "    hierarchy = target_layer_name.split('_')\n",
    "    target_layer = arch._modules[hierarchy[0]]\n",
    "\n",
    "    if len(hierarchy) >= 2:\n",
    "        target_layer = target_layer._modules[hierarchy[1]]\n",
    "\n",
    "    if len(hierarchy) == 3:\n",
    "        target_layer = target_layer._modules[hierarchy[2]]\n",
    "\n",
    "    elif len(hierarchy) == 4:\n",
    "        target_layer = target_layer._modules[hierarchy[2]+'_'+hierarchy[3]]\n",
    "\n",
    "    return target_layer\n",
    "\n",
    "\n",
    "def denormalize(tensor, mean, std):\n",
    "    if not tensor.ndimension() == 4:\n",
    "        raise TypeError('tensor should be 4D')\n",
    "\n",
    "    mean = torch.FloatTensor(mean).view(1, 3, 1, 1).expand_as(tensor).to(tensor.device)\n",
    "    std = torch.FloatTensor(std).view(1, 3, 1, 1).expand_as(tensor).to(tensor.device)\n",
    "\n",
    "    return tensor.mul(std).add(mean)\n",
    "\n",
    "\n",
    "def normalize(tensor, mean, std):\n",
    "    if not tensor.ndimension() == 4:\n",
    "        raise TypeError('tensor should be 4D')\n",
    "\n",
    "    mean = torch.FloatTensor(mean).view(1, 3, 1, 1).expand_as(tensor).to(tensor.device)\n",
    "    std = torch.FloatTensor(std).view(1, 3, 1, 1).expand_as(tensor).to(tensor.device)\n",
    "\n",
    "    return tensor.sub(mean).div(std)\n",
    "\n",
    "\n",
    "class Normalize(object):\n",
    "    def __init__(self, mean, std):\n",
    "        self.mean = mean\n",
    "        self.std = std\n",
    "\n",
    "    def __call__(self, tensor):\n",
    "        return self.do(tensor)\n",
    "    \n",
    "    def do(self, tensor):\n",
    "        return normalize(tensor, self.mean, self.std)\n",
    "    \n",
    "    def undo(self, tensor):\n",
    "        return denormalize(tensor, self.mean, self.std)\n",
    "\n",
    "    def __repr__(self):\n",
    "        return self.__class__.__name__ + '(mean={0}, std={1})'.format(self.mean, self.std)\n",
    "\n",
    "class GradCAM(object):\n",
    "    \"\"\"Calculate GradCAM salinecy map.\n",
    "\n",
    "    A simple example:\n",
    "\n",
    "        # initialize a model, model_dict and gradcam\n",
    "        resnet = torchvision.models.resnet101(pretrained=True)\n",
    "        resnet.eval()\n",
    "        model_dict = dict(model_type='resnet', arch=resnet, layer_name='layer4', input_size=(224, 224))\n",
    "        gradcam = GradCAM(model_dict)\n",
    "\n",
    "        # get an image and normalize with mean=(0.485, 0.456, 0.406), std=(0.229, 0.224, 0.225)\n",
    "        img = load_img()\n",
    "        normed_img = normalizer(img)\n",
    "\n",
    "        # get a GradCAM saliency map on the class index 10.\n",
    "        mask, logit = gradcam(normed_img, class_idx=10)\n",
    "\n",
    "        # make heatmap from mask and synthesize saliency map using heatmap and img\n",
    "        heatmap, cam_result = visualize_cam(mask, img)\n",
    "\n",
    "\n",
    "    Args:\n",
    "        model_dict (dict): a dictionary that contains 'model_type', 'arch', layer_name', 'input_size'(optional) as keys.\n",
    "        verbose (bool): whether to print output size of the saliency map givien 'layer_name' and 'input_size' in model_dict.\n",
    "    \"\"\"\n",
    "    def __init__(self, model_dict, verbose=False):\n",
    "        model_type = model_dict['type']\n",
    "        layer_name = model_dict['layer_name']\n",
    "        self.model_arch = model_dict['arch']\n",
    "\n",
    "        self.gradients = dict()\n",
    "        self.activations = dict()\n",
    "        def backward_hook(module, grad_input, grad_output):\n",
    "            self.gradients['value'] = grad_output[0]\n",
    "            return None\n",
    "        def forward_hook(module, input, output):\n",
    "            self.activations['value'] = output\n",
    "            return None\n",
    "\n",
    "        if 'vgg' in model_type.lower():\n",
    "            target_layer = find_vgg_layer(self.model_arch, layer_name)\n",
    "        elif 'resnet' in model_type.lower():\n",
    "            target_layer = find_resnet_layer(self.model_arch, layer_name)\n",
    "        elif 'densenet' in model_type.lower():\n",
    "            target_layer = find_densenet_layer(self.model_arch, layer_name)\n",
    "        elif 'alexnet' in model_type.lower():\n",
    "            target_layer = find_alexnet_layer(self.model_arch, layer_name)\n",
    "        elif 'squeezenet' in model_type.lower():\n",
    "            target_layer = find_squeezenet_layer(self.model_arch, layer_name)\n",
    "\n",
    "        target_layer.register_forward_hook(forward_hook)\n",
    "        target_layer.register_backward_hook(backward_hook)\n",
    "\n",
    "        if verbose:\n",
    "            try:\n",
    "                input_size = model_dict['input_size']\n",
    "            except KeyError:\n",
    "                print(\"please specify size of input image in model_dict. e.g. {'input_size':(224, 224)}\")\n",
    "                pass\n",
    "            else:\n",
    "                device = 'cuda' if next(self.model_arch.parameters()).is_cuda else 'cpu'\n",
    "                self.model_arch(torch.zeros(1, 3, *(input_size), device=device))\n",
    "                print('saliency_map size :', self.activations['value'].shape[2:])\n",
    "\n",
    "\n",
    "    def forward(self, input, class_idx=None, retain_graph=False):\n",
    "        \"\"\"\n",
    "        Args:\n",
    "            input: input image with shape of (1, 3, H, W)\n",
    "            class_idx (int): class index for calculating GradCAM.\n",
    "                    If not specified, the class index that makes the highest model prediction score will be used.\n",
    "        Return:\n",
    "            mask: saliency map of the same spatial dimension with input\n",
    "            logit: model output\n",
    "        \"\"\"\n",
    "        b, c, h, w = input.size()\n",
    "\n",
    "        logit = self.model_arch(input)\n",
    "        if class_idx is None:\n",
    "            score = logit[:, logit.max(1)[-1]].squeeze()\n",
    "        else:\n",
    "            score = logit[:, class_idx].squeeze()\n",
    "\n",
    "        self.model_arch.zero_grad()\n",
    "        score.backward(retain_graph=retain_graph)\n",
    "        gradients = self.gradients['value']\n",
    "        activations = self.activations['value']\n",
    "        b, k, u, v = gradients.size()\n",
    "\n",
    "        alpha = gradients.view(b, k, -1).mean(2)\n",
    "        #alpha = F.relu(gradients.view(b, k, -1)).mean(2)\n",
    "        weights = alpha.view(b, k, 1, 1)\n",
    "\n",
    "        saliency_map = (weights*activations).sum(1, keepdim=True)\n",
    "        saliency_map = F.relu(saliency_map)\n",
    "        saliency_map = F.upsample(saliency_map, size=(h, w), mode='bilinear', align_corners=False)\n",
    "        saliency_map_min, saliency_map_max = saliency_map.min(), saliency_map.max()\n",
    "        saliency_map = (saliency_map - saliency_map_min).div(saliency_map_max - saliency_map_min).data\n",
    "\n",
    "        return saliency_map, logit\n",
    "\n",
    "    def __call__(self, input, class_idx=None, retain_graph=False):\n",
    "        return self.forward(input, class_idx, retain_graph)\n",
    "\n",
    "\n",
    "class GradCAMpp(GradCAM):\n",
    "    \"\"\"Calculate GradCAM++ salinecy map.\n",
    "\n",
    "    A simple example:\n",
    "\n",
    "        # initialize a model, model_dict and gradcampp\n",
    "        resnet = torchvision.models.resnet101(pretrained=True)\n",
    "        resnet.eval()\n",
    "        model_dict = dict(model_type='resnet', arch=resnet, layer_name='layer4', input_size=(224, 224))\n",
    "        gradcampp = GradCAMpp(model_dict)\n",
    "\n",
    "        # get an image and normalize with mean=(0.485, 0.456, 0.406), std=(0.229, 0.224, 0.225)\n",
    "        img = load_img()\n",
    "        normed_img = normalizer(img)\n",
    "\n",
    "        # get a GradCAM saliency map on the class index 10.\n",
    "        mask, logit = gradcampp(normed_img, class_idx=10)\n",
    "\n",
    "        # make heatmap from mask and synthesize saliency map using heatmap and img\n",
    "        heatmap, cam_result = visualize_cam(mask, img)\n",
    "\n",
    "\n",
    "    Args:\n",
    "        model_dict (dict): a dictionary that contains 'model_type', 'arch', layer_name', 'input_size'(optional) as keys.\n",
    "        verbose (bool): whether to print output size of the saliency map givien 'layer_name' and 'input_size' in model_dict.\n",
    "    \"\"\"\n",
    "    def __init__(self, model_dict, verbose=False):\n",
    "        super(GradCAMpp, self).__init__(model_dict, verbose)\n",
    "\n",
    "    def forward(self, input, class_idx=None, retain_graph=False):\n",
    "        \"\"\"\n",
    "        Args:\n",
    "            input: input image with shape of (1, 3, H, W)\n",
    "            class_idx (int): class index for calculating GradCAM.\n",
    "                    If not specified, the class index that makes the highest model prediction score will be used.\n",
    "        Return:\n",
    "            mask: saliency map of the same spatial dimension with input\n",
    "            logit: model output\n",
    "        \"\"\"\n",
    "        b, c, h, w = input.size()\n",
    "\n",
    "        logit = self.model_arch(input)\n",
    "        if class_idx is None:\n",
    "            score = logit[:, logit.max(1)[-1]].squeeze()\n",
    "        else:\n",
    "            score = logit[:, class_idx].squeeze() \n",
    "            \n",
    "        self.model_arch.zero_grad()\n",
    "        score.backward(retain_graph=retain_graph)\n",
    "        gradients = self.gradients['value'] # dS/dA\n",
    "        activations = self.activations['value'] # A\n",
    "        b, k, u, v = gradients.size()\n",
    "\n",
    "        alpha_num = gradients.pow(2)\n",
    "        alpha_denom = gradients.pow(2).mul(2) + \\\n",
    "                activations.mul(gradients.pow(3)).view(b, k, u*v).sum(-1, keepdim=True).view(b, k, 1, 1)\n",
    "        alpha_denom = torch.where(alpha_denom != 0.0, alpha_denom, torch.ones_like(alpha_denom))\n",
    "\n",
    "        alpha = alpha_num.div(alpha_denom+1e-7)\n",
    "        positive_gradients = F.relu(score.exp()*gradients) # ReLU(dY/dA) == ReLU(exp(S)*dS/dA))\n",
    "        weights = (alpha*positive_gradients).view(b, k, u*v).sum(-1).view(b, k, 1, 1)\n",
    "\n",
    "        saliency_map = (weights*activations).sum(1, keepdim=True)\n",
    "        saliency_map = F.relu(saliency_map)\n",
    "        saliency_map = F.upsample(saliency_map, size=(224, 224), mode='bilinear', align_corners=False)\n",
    "        saliency_map_min, saliency_map_max = saliency_map.min(), saliency_map.max()\n",
    "        saliency_map = (saliency_map-saliency_map_min).div(saliency_map_max-saliency_map_min).data\n",
    "\n",
    "        return saliency_map, logit\n",
    "\n",
    "def get_heatmap(mask, img, alpha=1.0):\n",
    "    \"\"\"Make heatmap from mask and synthesize GradCAM result image using heatmap and img.\n",
    "    Args:\n",
    "        mask (torch.tensor): mask shape of (1, 1, H, W) and each element has value in range [0, 1]\n",
    "        img (torch.tensor): img shape of (1, 3, H, W) and each pixel value is in range [0, 1]\n",
    "    Return:\n",
    "        heatmap (torch.tensor): heatmap img shape of (3, H, W)\n",
    "        result (torch.tensor): synthesized GradCAM result of same shape with heatmap.\n",
    "    \"\"\"\n",
    "    heatmap = (255 * mask.squeeze()).type(torch.uint8).cpu().detach().numpy()\n",
    "#     heatmap = cv2.applyColorMap(heatmap, cv2.COLORMAP_JET)\n",
    "#     heatmap = torch.from_numpy(heatmap).permute(2, 0, 1).float().div(255)\n",
    "#     b, g, r = heatmap.split(1)\n",
    "#     heatmap = torch.cat([r, g, b]) * alpha\n",
    "\n",
    "    return heatmap"
   ]
  },
  {
   "cell_type": "code",
   "execution_count": 15,
   "id": "4f72764b-70be-4d2f-b967-adae2cd203e5",
   "metadata": {},
   "outputs": [],
   "source": [
    "# Load and process images\n",
    "def load_and_process_images(folder_path):\n",
    "    image_data = []\n",
    "    for root, _, files in os.walk(folder_path):\n",
    "        for file_name in files:\n",
    "            if os.path.splitext(file_name)[-1] == IMAGE_EXT:\n",
    "                rel_path = os.path.relpath(root, folder_path)\n",
    "                full_path = os.path.join(root, file_name)\n",
    "                file_name_parts = file_name.replace(\".\", \"_\").split('_')\n",
    "                try:\n",
    "                    subject, side, _ = file_name_parts\n",
    "                    image_data.append({\n",
    "                        'relpath': rel_path,\n",
    "                        'filename': file_name,\n",
    "                        'subject': subject,\n",
    "                        'side': side,\n",
    "                        'fullpath': full_path\n",
    "                    })\n",
    "                except ValueError:\n",
    "                    pass\n",
    "    return pd.DataFrame(image_data)\n",
    "\n",
    "duv_wsi_df = load_and_process_images(RESHAPED_IMAGES_DIR)\n",
    "duv_wsi_df['subject'] = duv_wsi_df['subject'].astype(int)\n",
    "duv_wsi_df = duv_wsi_df[duv_wsi_df.subject.isin(filtered_df['Patient Subject ID'].values)]\n",
    "sample_paths = duv_wsi_df['fullpath'].to_numpy()\n",
    "subjects = duv_wsi_df['subject'].to_numpy()\n",
    "sides = duv_wsi_df['side'].to_numpy()"
   ]
  },
  {
   "cell_type": "code",
   "execution_count": 24,
   "id": "5c5e06e7-fda5-4f5f-ae16-19249e7770d9",
   "metadata": {
    "scrolled": true
   },
   "outputs": [
    {
     "name": "stderr",
     "output_type": "stream",
     "text": [
      "  0%|                                                             | 0/81 [00:00<?, ?it/s]"
     ]
    },
    {
     "name": "stdout",
     "output_type": "stream",
     "text": [
      "saliency_map size : torch.Size([7, 7])\n"
     ]
    },
    {
     "name": "stderr",
     "output_type": "stream",
     "text": [
      "  1%|▋                                                    | 1/81 [00:09<12:10,  9.13s/it]"
     ]
    },
    {
     "name": "stdout",
     "output_type": "stream",
     "text": [
      "saliency_map size : torch.Size([7, 7])\n"
     ]
    },
    {
     "name": "stderr",
     "output_type": "stream",
     "text": [
      "  2%|█▎                                                   | 2/81 [00:13<07:59,  6.07s/it]"
     ]
    },
    {
     "name": "stdout",
     "output_type": "stream",
     "text": [
      "saliency_map size : torch.Size([7, 7])\n"
     ]
    },
    {
     "name": "stderr",
     "output_type": "stream",
     "text": [
      "  4%|█▉                                                   | 3/81 [00:15<05:52,  4.52s/it]"
     ]
    },
    {
     "name": "stdout",
     "output_type": "stream",
     "text": [
      "saliency_map size : torch.Size([7, 7])\n"
     ]
    },
    {
     "name": "stderr",
     "output_type": "stream",
     "text": [
      "  5%|██▌                                                  | 4/81 [00:34<12:48,  9.97s/it]"
     ]
    },
    {
     "name": "stdout",
     "output_type": "stream",
     "text": [
      "saliency_map size : torch.Size([7, 7])\n"
     ]
    },
    {
     "name": "stderr",
     "output_type": "stream",
     "text": [
      "  6%|███▎                                                 | 5/81 [00:42<11:54,  9.40s/it]"
     ]
    },
    {
     "name": "stdout",
     "output_type": "stream",
     "text": [
      "saliency_map size : torch.Size([7, 7])\n"
     ]
    },
    {
     "name": "stderr",
     "output_type": "stream",
     "text": [
      "  7%|███▉                                                 | 6/81 [00:46<09:36,  7.69s/it]"
     ]
    },
    {
     "name": "stdout",
     "output_type": "stream",
     "text": [
      "saliency_map size : torch.Size([7, 7])\n"
     ]
    },
    {
     "name": "stderr",
     "output_type": "stream",
     "text": [
      "  9%|████▌                                                | 7/81 [00:50<07:42,  6.25s/it]"
     ]
    },
    {
     "name": "stdout",
     "output_type": "stream",
     "text": [
      "saliency_map size : torch.Size([7, 7])\n"
     ]
    },
    {
     "name": "stderr",
     "output_type": "stream",
     "text": [
      " 10%|█████▏                                               | 8/81 [00:54<07:03,  5.80s/it]"
     ]
    },
    {
     "name": "stdout",
     "output_type": "stream",
     "text": [
      "saliency_map size : torch.Size([7, 7])\n"
     ]
    },
    {
     "name": "stderr",
     "output_type": "stream",
     "text": [
      " 11%|█████▉                                               | 9/81 [00:56<05:25,  4.52s/it]"
     ]
    },
    {
     "name": "stdout",
     "output_type": "stream",
     "text": [
      "saliency_map size : torch.Size([7, 7])\n"
     ]
    },
    {
     "name": "stderr",
     "output_type": "stream",
     "text": [
      " 12%|██████▍                                             | 10/81 [01:00<05:10,  4.38s/it]"
     ]
    },
    {
     "name": "stdout",
     "output_type": "stream",
     "text": [
      "saliency_map size : torch.Size([7, 7])\n"
     ]
    },
    {
     "name": "stderr",
     "output_type": "stream",
     "text": [
      " 14%|███████                                             | 11/81 [01:12<07:45,  6.66s/it]"
     ]
    },
    {
     "name": "stdout",
     "output_type": "stream",
     "text": [
      "saliency_map size : torch.Size([7, 7])\n"
     ]
    },
    {
     "name": "stderr",
     "output_type": "stream",
     "text": [
      " 15%|███████▋                                            | 12/81 [01:16<06:44,  5.86s/it]"
     ]
    },
    {
     "name": "stdout",
     "output_type": "stream",
     "text": [
      "saliency_map size : torch.Size([7, 7])\n"
     ]
    },
    {
     "name": "stderr",
     "output_type": "stream",
     "text": [
      " 16%|████████▎                                           | 13/81 [01:23<07:00,  6.18s/it]"
     ]
    },
    {
     "name": "stdout",
     "output_type": "stream",
     "text": [
      "saliency_map size : torch.Size([7, 7])\n"
     ]
    },
    {
     "name": "stderr",
     "output_type": "stream",
     "text": [
      " 17%|████████▉                                           | 14/81 [01:27<06:03,  5.42s/it]"
     ]
    },
    {
     "name": "stdout",
     "output_type": "stream",
     "text": [
      "saliency_map size : torch.Size([7, 7])\n"
     ]
    },
    {
     "name": "stderr",
     "output_type": "stream",
     "text": [
      " 19%|█████████▋                                          | 15/81 [01:30<05:10,  4.70s/it]"
     ]
    },
    {
     "name": "stdout",
     "output_type": "stream",
     "text": [
      "saliency_map size : torch.Size([7, 7])\n"
     ]
    },
    {
     "name": "stderr",
     "output_type": "stream",
     "text": [
      " 20%|██████████▎                                         | 16/81 [01:33<04:47,  4.42s/it]"
     ]
    },
    {
     "name": "stdout",
     "output_type": "stream",
     "text": [
      "saliency_map size : torch.Size([7, 7])\n"
     ]
    },
    {
     "name": "stderr",
     "output_type": "stream",
     "text": [
      " 21%|██████████▉                                         | 17/81 [01:36<04:11,  3.93s/it]"
     ]
    },
    {
     "name": "stdout",
     "output_type": "stream",
     "text": [
      "saliency_map size : torch.Size([7, 7])\n"
     ]
    },
    {
     "name": "stderr",
     "output_type": "stream",
     "text": [
      " 22%|███████████▌                                        | 18/81 [01:38<03:28,  3.30s/it]"
     ]
    },
    {
     "name": "stdout",
     "output_type": "stream",
     "text": [
      "saliency_map size : torch.Size([7, 7])\n"
     ]
    },
    {
     "name": "stderr",
     "output_type": "stream",
     "text": [
      " 23%|████████████▏                                       | 19/81 [01:44<04:08,  4.02s/it]"
     ]
    },
    {
     "name": "stdout",
     "output_type": "stream",
     "text": [
      "saliency_map size : torch.Size([7, 7])\n"
     ]
    },
    {
     "name": "stderr",
     "output_type": "stream",
     "text": [
      " 25%|████████████▊                                       | 20/81 [01:57<07:00,  6.89s/it]"
     ]
    },
    {
     "name": "stdout",
     "output_type": "stream",
     "text": [
      "saliency_map size : torch.Size([7, 7])\n"
     ]
    },
    {
     "name": "stderr",
     "output_type": "stream",
     "text": [
      " 26%|█████████████▍                                      | 21/81 [02:05<07:04,  7.07s/it]"
     ]
    },
    {
     "name": "stdout",
     "output_type": "stream",
     "text": [
      "saliency_map size : torch.Size([7, 7])\n"
     ]
    },
    {
     "name": "stderr",
     "output_type": "stream",
     "text": [
      " 27%|██████████████                                      | 22/81 [02:29<12:07, 12.34s/it]"
     ]
    },
    {
     "name": "stdout",
     "output_type": "stream",
     "text": [
      "saliency_map size : torch.Size([7, 7])\n"
     ]
    },
    {
     "name": "stderr",
     "output_type": "stream",
     "text": [
      " 28%|██████████████▊                                     | 23/81 [02:34<09:39,  9.99s/it]"
     ]
    },
    {
     "name": "stdout",
     "output_type": "stream",
     "text": [
      "saliency_map size : torch.Size([7, 7])\n"
     ]
    },
    {
     "name": "stderr",
     "output_type": "stream",
     "text": [
      " 30%|███████████████▍                                    | 24/81 [02:41<08:38,  9.09s/it]"
     ]
    },
    {
     "name": "stdout",
     "output_type": "stream",
     "text": [
      "saliency_map size : torch.Size([7, 7])\n"
     ]
    },
    {
     "name": "stderr",
     "output_type": "stream",
     "text": [
      " 31%|████████████████                                    | 25/81 [02:49<08:04,  8.65s/it]"
     ]
    },
    {
     "name": "stdout",
     "output_type": "stream",
     "text": [
      "saliency_map size : torch.Size([7, 7])\n"
     ]
    },
    {
     "name": "stderr",
     "output_type": "stream",
     "text": [
      " 32%|████████████████▋                                   | 26/81 [02:52<06:26,  7.02s/it]"
     ]
    },
    {
     "name": "stdout",
     "output_type": "stream",
     "text": [
      "saliency_map size : torch.Size([7, 7])\n"
     ]
    },
    {
     "name": "stderr",
     "output_type": "stream",
     "text": [
      " 33%|█████████████████▎                                  | 27/81 [02:58<06:10,  6.87s/it]"
     ]
    },
    {
     "name": "stdout",
     "output_type": "stream",
     "text": [
      "saliency_map size : torch.Size([7, 7])\n"
     ]
    },
    {
     "name": "stderr",
     "output_type": "stream",
     "text": [
      " 35%|█████████████████▉                                  | 28/81 [03:00<04:49,  5.45s/it]"
     ]
    },
    {
     "name": "stdout",
     "output_type": "stream",
     "text": [
      "saliency_map size : torch.Size([7, 7])\n"
     ]
    },
    {
     "name": "stderr",
     "output_type": "stream",
     "text": [
      " 36%|██████████████████▌                                 | 29/81 [03:04<04:09,  4.80s/it]"
     ]
    },
    {
     "name": "stdout",
     "output_type": "stream",
     "text": [
      "saliency_map size : torch.Size([7, 7])\n"
     ]
    },
    {
     "name": "stderr",
     "output_type": "stream",
     "text": [
      " 37%|███████████████████▎                                | 30/81 [03:12<04:50,  5.70s/it]"
     ]
    },
    {
     "name": "stdout",
     "output_type": "stream",
     "text": [
      "saliency_map size : torch.Size([7, 7])\n"
     ]
    },
    {
     "name": "stderr",
     "output_type": "stream",
     "text": [
      " 38%|███████████████████▉                                | 31/81 [03:14<04:01,  4.82s/it]"
     ]
    },
    {
     "name": "stdout",
     "output_type": "stream",
     "text": [
      "saliency_map size : torch.Size([7, 7])\n"
     ]
    },
    {
     "name": "stderr",
     "output_type": "stream",
     "text": [
      " 40%|████████████████████▌                               | 32/81 [03:18<03:33,  4.36s/it]"
     ]
    },
    {
     "name": "stdout",
     "output_type": "stream",
     "text": [
      "saliency_map size : torch.Size([7, 7])\n"
     ]
    },
    {
     "name": "stderr",
     "output_type": "stream",
     "text": [
      " 41%|█████████████████████▏                              | 33/81 [03:22<03:36,  4.50s/it]"
     ]
    },
    {
     "name": "stdout",
     "output_type": "stream",
     "text": [
      "saliency_map size : torch.Size([7, 7])\n"
     ]
    },
    {
     "name": "stderr",
     "output_type": "stream",
     "text": [
      " 42%|█████████████████████▊                              | 34/81 [03:24<02:51,  3.64s/it]"
     ]
    },
    {
     "name": "stdout",
     "output_type": "stream",
     "text": [
      "saliency_map size : torch.Size([7, 7])\n"
     ]
    },
    {
     "name": "stderr",
     "output_type": "stream",
     "text": [
      " 43%|██████████████████████▍                             | 35/81 [03:28<02:45,  3.60s/it]"
     ]
    },
    {
     "name": "stdout",
     "output_type": "stream",
     "text": [
      "saliency_map size : torch.Size([7, 7])\n"
     ]
    },
    {
     "name": "stderr",
     "output_type": "stream",
     "text": [
      " 44%|███████████████████████                             | 36/81 [03:36<03:45,  5.00s/it]"
     ]
    },
    {
     "name": "stdout",
     "output_type": "stream",
     "text": [
      "saliency_map size : torch.Size([7, 7])\n"
     ]
    },
    {
     "name": "stderr",
     "output_type": "stream",
     "text": [
      " 46%|███████████████████████▊                            | 37/81 [03:40<03:23,  4.64s/it]"
     ]
    },
    {
     "name": "stdout",
     "output_type": "stream",
     "text": [
      "saliency_map size : torch.Size([7, 7])\n"
     ]
    },
    {
     "name": "stderr",
     "output_type": "stream",
     "text": [
      " 47%|████████████████████████▍                           | 38/81 [03:42<02:47,  3.89s/it]"
     ]
    },
    {
     "name": "stdout",
     "output_type": "stream",
     "text": [
      "saliency_map size : torch.Size([7, 7])\n"
     ]
    },
    {
     "name": "stderr",
     "output_type": "stream",
     "text": [
      " 48%|█████████████████████████                           | 39/81 [03:48<03:08,  4.48s/it]"
     ]
    },
    {
     "name": "stdout",
     "output_type": "stream",
     "text": [
      "saliency_map size : torch.Size([7, 7])\n"
     ]
    },
    {
     "name": "stderr",
     "output_type": "stream",
     "text": [
      " 49%|█████████████████████████▋                          | 40/81 [03:51<02:51,  4.17s/it]"
     ]
    },
    {
     "name": "stdout",
     "output_type": "stream",
     "text": [
      "saliency_map size : torch.Size([7, 7])\n"
     ]
    },
    {
     "name": "stderr",
     "output_type": "stream",
     "text": [
      " 51%|██████████████████████████▎                         | 41/81 [03:54<02:28,  3.71s/it]"
     ]
    },
    {
     "name": "stdout",
     "output_type": "stream",
     "text": [
      "saliency_map size : torch.Size([7, 7])\n"
     ]
    },
    {
     "name": "stderr",
     "output_type": "stream",
     "text": [
      " 52%|██████████████████████████▉                         | 42/81 [03:55<02:00,  3.09s/it]"
     ]
    },
    {
     "name": "stdout",
     "output_type": "stream",
     "text": [
      "saliency_map size : torch.Size([7, 7])\n"
     ]
    },
    {
     "name": "stderr",
     "output_type": "stream",
     "text": [
      " 53%|███████████████████████████▌                        | 43/81 [04:03<02:44,  4.32s/it]"
     ]
    },
    {
     "name": "stdout",
     "output_type": "stream",
     "text": [
      "saliency_map size : torch.Size([7, 7])\n"
     ]
    },
    {
     "name": "stderr",
     "output_type": "stream",
     "text": [
      " 54%|████████████████████████████▏                       | 44/81 [04:06<02:26,  3.97s/it]"
     ]
    },
    {
     "name": "stdout",
     "output_type": "stream",
     "text": [
      "saliency_map size : torch.Size([7, 7])\n"
     ]
    },
    {
     "name": "stderr",
     "output_type": "stream",
     "text": [
      " 56%|████████████████████████████▉                       | 45/81 [04:08<01:59,  3.33s/it]"
     ]
    },
    {
     "name": "stdout",
     "output_type": "stream",
     "text": [
      "saliency_map size : torch.Size([7, 7])\n"
     ]
    },
    {
     "name": "stderr",
     "output_type": "stream",
     "text": [
      " 57%|█████████████████████████████▌                      | 46/81 [04:23<03:59,  6.85s/it]"
     ]
    },
    {
     "name": "stdout",
     "output_type": "stream",
     "text": [
      "saliency_map size : torch.Size([7, 7])\n"
     ]
    },
    {
     "name": "stderr",
     "output_type": "stream",
     "text": [
      " 58%|██████████████████████████████▏                     | 47/81 [04:26<03:14,  5.72s/it]"
     ]
    },
    {
     "name": "stdout",
     "output_type": "stream",
     "text": [
      "saliency_map size : torch.Size([7, 7])\n"
     ]
    },
    {
     "name": "stderr",
     "output_type": "stream",
     "text": [
      " 59%|██████████████████████████████▊                     | 48/81 [04:30<02:55,  5.32s/it]"
     ]
    },
    {
     "name": "stdout",
     "output_type": "stream",
     "text": [
      "saliency_map size : torch.Size([7, 7])\n"
     ]
    },
    {
     "name": "stderr",
     "output_type": "stream",
     "text": [
      " 60%|███████████████████████████████▍                    | 49/81 [04:32<02:20,  4.39s/it]"
     ]
    },
    {
     "name": "stdout",
     "output_type": "stream",
     "text": [
      "saliency_map size : torch.Size([7, 7])\n"
     ]
    },
    {
     "name": "stderr",
     "output_type": "stream",
     "text": [
      " 62%|████████████████████████████████                    | 50/81 [04:36<02:06,  4.09s/it]"
     ]
    },
    {
     "name": "stdout",
     "output_type": "stream",
     "text": [
      "saliency_map size : torch.Size([7, 7])\n"
     ]
    },
    {
     "name": "stderr",
     "output_type": "stream",
     "text": [
      " 63%|████████████████████████████████▋                   | 51/81 [04:40<02:01,  4.05s/it]"
     ]
    },
    {
     "name": "stdout",
     "output_type": "stream",
     "text": [
      "saliency_map size : torch.Size([7, 7])\n"
     ]
    },
    {
     "name": "stderr",
     "output_type": "stream",
     "text": [
      " 64%|█████████████████████████████████▍                  | 52/81 [04:43<01:49,  3.77s/it]"
     ]
    },
    {
     "name": "stdout",
     "output_type": "stream",
     "text": [
      "saliency_map size : torch.Size([7, 7])\n"
     ]
    },
    {
     "name": "stderr",
     "output_type": "stream",
     "text": [
      " 65%|██████████████████████████████████                  | 53/81 [04:47<01:47,  3.85s/it]"
     ]
    },
    {
     "name": "stdout",
     "output_type": "stream",
     "text": [
      "saliency_map size : torch.Size([7, 7])\n"
     ]
    },
    {
     "name": "stderr",
     "output_type": "stream",
     "text": [
      " 67%|██████████████████████████████████▋                 | 54/81 [04:51<01:50,  4.09s/it]"
     ]
    },
    {
     "name": "stdout",
     "output_type": "stream",
     "text": [
      "saliency_map size : torch.Size([7, 7])\n"
     ]
    },
    {
     "name": "stderr",
     "output_type": "stream",
     "text": [
      " 68%|███████████████████████████████████▎                | 55/81 [04:55<01:41,  3.90s/it]"
     ]
    },
    {
     "name": "stdout",
     "output_type": "stream",
     "text": [
      "saliency_map size : torch.Size([7, 7])\n"
     ]
    },
    {
     "name": "stderr",
     "output_type": "stream",
     "text": [
      " 69%|███████████████████████████████████▉                | 56/81 [04:59<01:39,  4.00s/it]"
     ]
    },
    {
     "name": "stdout",
     "output_type": "stream",
     "text": [
      "saliency_map size : torch.Size([7, 7])\n"
     ]
    },
    {
     "name": "stderr",
     "output_type": "stream",
     "text": [
      " 70%|████████████████████████████████████▌               | 57/81 [05:03<01:32,  3.87s/it]"
     ]
    },
    {
     "name": "stdout",
     "output_type": "stream",
     "text": [
      "saliency_map size : torch.Size([7, 7])\n"
     ]
    },
    {
     "name": "stderr",
     "output_type": "stream",
     "text": [
      " 72%|█████████████████████████████████████▏              | 58/81 [05:06<01:27,  3.81s/it]"
     ]
    },
    {
     "name": "stdout",
     "output_type": "stream",
     "text": [
      "saliency_map size : torch.Size([7, 7])\n"
     ]
    },
    {
     "name": "stderr",
     "output_type": "stream",
     "text": [
      " 73%|█████████████████████████████████████▉              | 59/81 [05:12<01:34,  4.28s/it]"
     ]
    },
    {
     "name": "stdout",
     "output_type": "stream",
     "text": [
      "saliency_map size : torch.Size([7, 7])\n"
     ]
    },
    {
     "name": "stderr",
     "output_type": "stream",
     "text": [
      " 74%|██████████████████████████████████████▌             | 60/81 [05:22<02:08,  6.11s/it]"
     ]
    },
    {
     "name": "stdout",
     "output_type": "stream",
     "text": [
      "saliency_map size : torch.Size([7, 7])\n"
     ]
    },
    {
     "name": "stderr",
     "output_type": "stream",
     "text": [
      " 75%|███████████████████████████████████████▏            | 61/81 [05:23<01:30,  4.51s/it]"
     ]
    },
    {
     "name": "stdout",
     "output_type": "stream",
     "text": [
      "saliency_map size : torch.Size([7, 7])\n"
     ]
    },
    {
     "name": "stderr",
     "output_type": "stream",
     "text": [
      " 77%|███████████████████████████████████████▊            | 62/81 [05:34<02:03,  6.51s/it]"
     ]
    },
    {
     "name": "stdout",
     "output_type": "stream",
     "text": [
      "saliency_map size : torch.Size([7, 7])\n"
     ]
    },
    {
     "name": "stderr",
     "output_type": "stream",
     "text": [
      " 78%|████████████████████████████████████████▍           | 63/81 [05:37<01:37,  5.44s/it]"
     ]
    },
    {
     "name": "stdout",
     "output_type": "stream",
     "text": [
      "saliency_map size : torch.Size([7, 7])\n"
     ]
    },
    {
     "name": "stderr",
     "output_type": "stream",
     "text": [
      " 79%|█████████████████████████████████████████           | 64/81 [05:45<01:46,  6.27s/it]"
     ]
    },
    {
     "name": "stdout",
     "output_type": "stream",
     "text": [
      "saliency_map size : torch.Size([7, 7])\n"
     ]
    },
    {
     "name": "stderr",
     "output_type": "stream",
     "text": [
      " 80%|█████████████████████████████████████████▋          | 65/81 [05:48<01:22,  5.16s/it]"
     ]
    },
    {
     "name": "stdout",
     "output_type": "stream",
     "text": [
      "saliency_map size : torch.Size([7, 7])\n"
     ]
    },
    {
     "name": "stderr",
     "output_type": "stream",
     "text": [
      " 81%|██████████████████████████████████████████▎         | 66/81 [05:51<01:10,  4.72s/it]"
     ]
    },
    {
     "name": "stdout",
     "output_type": "stream",
     "text": [
      "saliency_map size : torch.Size([7, 7])\n"
     ]
    },
    {
     "name": "stderr",
     "output_type": "stream",
     "text": [
      " 83%|███████████████████████████████████████████         | 67/81 [05:58<01:12,  5.19s/it]"
     ]
    },
    {
     "name": "stdout",
     "output_type": "stream",
     "text": [
      "saliency_map size : torch.Size([7, 7])\n"
     ]
    },
    {
     "name": "stderr",
     "output_type": "stream",
     "text": [
      " 84%|███████████████████████████████████████████▋        | 68/81 [06:00<00:56,  4.31s/it]"
     ]
    },
    {
     "name": "stdout",
     "output_type": "stream",
     "text": [
      "saliency_map size : torch.Size([7, 7])\n"
     ]
    },
    {
     "name": "stderr",
     "output_type": "stream",
     "text": [
      " 85%|████████████████████████████████████████████▎       | 69/81 [06:03<00:48,  4.01s/it]"
     ]
    },
    {
     "name": "stdout",
     "output_type": "stream",
     "text": [
      "saliency_map size : torch.Size([7, 7])\n"
     ]
    },
    {
     "name": "stderr",
     "output_type": "stream",
     "text": [
      " 86%|████████████████████████████████████████████▉       | 70/81 [06:11<00:55,  5.06s/it]"
     ]
    },
    {
     "name": "stdout",
     "output_type": "stream",
     "text": [
      "saliency_map size : torch.Size([7, 7])\n"
     ]
    },
    {
     "name": "stderr",
     "output_type": "stream",
     "text": [
      " 88%|█████████████████████████████████████████████▌      | 71/81 [06:16<00:51,  5.10s/it]"
     ]
    },
    {
     "name": "stdout",
     "output_type": "stream",
     "text": [
      "saliency_map size : torch.Size([7, 7])\n"
     ]
    },
    {
     "name": "stderr",
     "output_type": "stream",
     "text": [
      " 89%|██████████████████████████████████████████████▏     | 72/81 [06:20<00:43,  4.81s/it]"
     ]
    },
    {
     "name": "stdout",
     "output_type": "stream",
     "text": [
      "saliency_map size : torch.Size([7, 7])\n"
     ]
    },
    {
     "name": "stderr",
     "output_type": "stream",
     "text": [
      " 90%|██████████████████████████████████████████████▊     | 73/81 [06:25<00:39,  4.88s/it]"
     ]
    },
    {
     "name": "stdout",
     "output_type": "stream",
     "text": [
      "saliency_map size : torch.Size([7, 7])\n"
     ]
    },
    {
     "name": "stderr",
     "output_type": "stream",
     "text": [
      " 91%|███████████████████████████████████████████████▌    | 74/81 [06:29<00:31,  4.46s/it]"
     ]
    },
    {
     "name": "stdout",
     "output_type": "stream",
     "text": [
      "saliency_map size : torch.Size([7, 7])\n"
     ]
    },
    {
     "name": "stderr",
     "output_type": "stream",
     "text": [
      " 93%|████████████████████████████████████████████████▏   | 75/81 [06:34<00:27,  4.63s/it]"
     ]
    },
    {
     "name": "stdout",
     "output_type": "stream",
     "text": [
      "saliency_map size : torch.Size([7, 7])\n"
     ]
    },
    {
     "name": "stderr",
     "output_type": "stream",
     "text": [
      " 94%|████████████████████████████████████████████████▊   | 76/81 [06:45<00:32,  6.48s/it]"
     ]
    },
    {
     "name": "stdout",
     "output_type": "stream",
     "text": [
      "saliency_map size : torch.Size([7, 7])\n"
     ]
    },
    {
     "name": "stderr",
     "output_type": "stream",
     "text": [
      " 95%|█████████████████████████████████████████████████▍  | 77/81 [06:52<00:26,  6.67s/it]"
     ]
    },
    {
     "name": "stdout",
     "output_type": "stream",
     "text": [
      "saliency_map size : torch.Size([7, 7])\n"
     ]
    },
    {
     "name": "stderr",
     "output_type": "stream",
     "text": [
      " 96%|██████████████████████████████████████████████████  | 78/81 [06:57<00:18,  6.26s/it]"
     ]
    },
    {
     "name": "stdout",
     "output_type": "stream",
     "text": [
      "saliency_map size : torch.Size([7, 7])\n"
     ]
    },
    {
     "name": "stderr",
     "output_type": "stream",
     "text": [
      " 98%|██████████████████████████████████████████████████▋ | 79/81 [06:59<00:10,  5.15s/it]"
     ]
    },
    {
     "name": "stdout",
     "output_type": "stream",
     "text": [
      "saliency_map size : torch.Size([7, 7])\n"
     ]
    },
    {
     "name": "stderr",
     "output_type": "stream",
     "text": [
      " 99%|███████████████████████████████████████████████████▎| 80/81 [07:03<00:04,  4.78s/it]"
     ]
    },
    {
     "name": "stdout",
     "output_type": "stream",
     "text": [
      "saliency_map size : torch.Size([7, 7])\n"
     ]
    },
    {
     "name": "stderr",
     "output_type": "stream",
     "text": [
      "100%|████████████████████████████████████████████████████| 81/81 [07:08<00:00,  5.29s/it]\n"
     ]
    }
   ],
   "source": [
    "from tqdm import tqdm\n",
    "import torch.nn.functional as F\n",
    "\n",
    "# Model setup\n",
    "device = torch.device(\"cuda\" if torch.cuda.is_available() else \"cpu\")\n",
    "model = models.densenet169(pretrained=True)\n",
    "fc_inputs = model.classifier.in_features\n",
    "\n",
    "num_classes = 2\n",
    "model.classifier = nn.Sequential(\n",
    "    nn.Linear(fc_inputs, 256),\n",
    "    nn.ReLU(),\n",
    "    nn.Dropout(0.4),\n",
    "    nn.Linear(256, num_classes),\n",
    "    nn.LogSoftmax(dim=1)\n",
    ")\n",
    "model.eval()\n",
    "model = model.to(device)\n",
    "\n",
    "# Image processing\n",
    "transform = transforms.Compose([\n",
    "    transforms.Resize(RESIZE_DIMS),\n",
    "    transforms.ToTensor(),\n",
    "    transforms.Normalize([0.485, 0.456, 0.406], [0.229, 0.224, 0.225])\n",
    "])\n",
    "\n",
    "\n",
    "for z in tqdm(range(len(sample_paths))):\n",
    "    # Model inference\n",
    "    test_img = Image.open(sample_paths[z])\n",
    "    #torch_img = transform(test_img).to(device)[None]\n",
    "    torch_img = transforms.Compose([\n",
    "            transforms.Resize((224, 224)),\n",
    "            transforms.ToTensor()\n",
    "        ])(test_img).to(device)\n",
    "\n",
    "    torch_img = transforms.Normalize([0.485, 0.456, 0.406], [0.229, 0.224, 0.225])(torch_img)[None]\n",
    "\n",
    "    densenet_model_dict = dict(type='densenet', arch=model, layer_name='features_norm5', input_size=(224,224))\n",
    "    densenet_gradcampp = GradCAMpp(densenet_model_dict, True)\n",
    "    \n",
    "    mask_pp, _ = densenet_gradcampp(torch_img)\n",
    "    raw_heatmap = get_heatmap(mask_pp, torch_img)\n",
    "    \n",
    "    custom_str = f\"{subjects[z]}_{sides[z]}\"\n",
    "    #overlay_save_path = os.path.join(FINAL_HEAT_MAP_DIR, custom_str)\n",
    "    overlay_save_path = os.path.join(FINAL_HEAT_MAP_DIR, f\"{custom_str}.jpg\")\n",
    "    Image.fromarray(raw_heatmap).save(overlay_save_path)\n",
    "\n",
    "    # Clean up tensors to free GPU memory\n",
    "    del torch_img\n",
    "    del mask_pp\n",
    "    del raw_heatmap\n",
    "    \n",
    "    # Clear CUDA cache\n",
    "    torch.cuda.empty_cache()\n",
    "    \n",
    "    # Post-processing\n",
    "    overlay = cv2.imread(overlay_save_path, 0)\n",
    "    plt.imshow(overlay / 255, cmap='jet')\n",
    "    plt.grid(False)\n",
    "    plt.margins(0)\n",
    "    plt.axis('off')\n",
    "    plt.savefig(overlay_save_path, bbox_inches=\"tight\", pad_inches=0)\n",
    "    plt.close()\n",
    "\n",
    "    background = cv2.imread(sample_paths[z])\n",
    "    h, w = background.shape[:2]\n",
    "    dim = (math.ceil(w/400)*400, math.ceil(h/400)*400)\n",
    "    resized_overlay = cv2.resize(overlay, dim, interpolation=cv2.INTER_AREA)\n",
    "    \n",
    "\n",
    "    cv2.imwrite(overlay_save_path, resized_overlay)\n",
    "    # Resize resized_overlay to match the dimensions of background\n",
    "    if resized_overlay.shape[:2] != background.shape[:2]:\n",
    "        resized_overlay = cv2.resize(resized_overlay, (background.shape[1], background.shape[0]))\n",
    "        \n",
    "    # Normalize the grayscale image to the range [0, 1]\n",
    "    normed_overlay = cv2.normalize(resized_overlay, None, alpha=0, beta=1, norm_type=cv2.NORM_MINMAX, dtype=cv2.CV_32F)\n",
    "    \n",
    "    # Convert the normalized grayscale image to a jet heatmap\n",
    "    jet_heatmap = cv2.applyColorMap((normed_overlay * 255).astype(np.uint8), cv2.COLORMAP_JET)\n",
    "    \n",
    "    # Now blend the jet heatmap with the background\n",
    "    added_image = cv2.addWeighted(background, 1, jet_heatmap, 0.5, -10)\n",
    "\n",
    "    final_save_path = os.path.join(FINAL_OVERLAY_HEAT_MAP_DIR, custom_str + '.jpg')\n",
    "    cv2.imwrite(final_save_path, added_image)\n"
   ]
  },
  {
   "cell_type": "code",
   "execution_count": 21,
   "id": "4a8d0eb0-28df-4312-8922-bc4a1986b3b8",
   "metadata": {},
   "outputs": [],
   "source": [
    "# Post-processing and saving grid maps\n",
    "for z in range(len(sample_paths)):\n",
    "    custom_str = f\"{subjects[z]}_{sides[z]}\"\n",
    "\n",
    "    fixed_raw_map = Image.open(os.path.join(RAW_MAP_DIR, f\"{custom_str}.jpg\"))\n",
    "    final_heat_map = Image.open(os.path.join(FINAL_HEAT_MAP_DIR, f\"{custom_str}.jpg\"))\n",
    "    \n",
    "    w, h = fixed_raw_map.size\n",
    "\n",
    "    h = math.ceil(h/400)\n",
    "    w = math.ceil(w/400)\n",
    "    \n",
    "    resized_dim = (w, h)\n",
    "    norm_values = np.array(final_heat_map.resize(resized_dim)) / 255\n",
    "    np.save(os.path.join(GRADCAM_GRID_MAP_DIR, f\"{custom_str}.npy\"), norm_values)"
   ]
  },
  {
   "cell_type": "code",
   "execution_count": 16,
   "id": "2c3c439b-42b5-48db-9fbd-6da79ff877d6",
   "metadata": {},
   "outputs": [],
   "source": [
    "duv_patch_df['subject'] = duv_patch_df['subject'].str.replace('S', '')\n",
    "duv_patch_df['encode'] = duv_patch_df['Pred'].map({'B': 0, 'M': 1})\n",
    "\n",
    "#storage2 = []\n",
    "for z in range(len(sample_paths)):\n",
    "    background = cv2.imread(sample_paths[z])\n",
    "    height, width = background.shape[:2]\n",
    "    custom_str = f\"{subjects[z]}_{sides[z]}\"\n",
    "    \n",
    "    focus_data = duv_patch_df[duv_patch_df['subject'] == custom_str]\n",
    "    x_list = focus_data['x'].astype(int).values\n",
    "    y_list = focus_data['y'].astype(int).values\n",
    "    encode_list = focus_data['encode'].astype(int).values\n",
    "    \n",
    "    zero_arr = np.zeros((math.ceil(height/400), math.ceil(width/400)))\n",
    "    zero_arr[x_list, y_list] = np.where(encode_list == 1, 1, -1)\n",
    "    #storage2.append(zero_arr)\n",
    "\n",
    "    np.save(os.path.join(PRED_GRID_MAP_DIR, f\"{custom_str}.npy\"), zero_arr)"
   ]
  },
  {
   "cell_type": "code",
   "execution_count": 68,
   "id": "1b83f348-cdca-4beb-92d2-43e22a8eed04",
   "metadata": {},
   "outputs": [
    {
     "name": "stderr",
     "output_type": "stream",
     "text": [
      "/tmp/ipykernel_683277/218058406.py:1: SettingWithCopyWarning: \n",
      "A value is trying to be set on a copy of a slice from a DataFrame.\n",
      "Try using .loc[row_indexer,col_indexer] = value instead\n",
      "\n",
      "See the caveats in the documentation: https://pandas.pydata.org/pandas-docs/stable/user_guide/indexing.html#returning-a-view-versus-a-copy\n",
      "  duv_patch_df['subject'] = duv_patch_df['subject'].str.replace('S', '')\n",
      "/tmp/ipykernel_683277/218058406.py:2: SettingWithCopyWarning: \n",
      "A value is trying to be set on a copy of a slice from a DataFrame.\n",
      "Try using .loc[row_indexer,col_indexer] = value instead\n",
      "\n",
      "See the caveats in the documentation: https://pandas.pydata.org/pandas-docs/stable/user_guide/indexing.html#returning-a-view-versus-a-copy\n",
      "  duv_patch_df['encode'] = duv_patch_df['Pred'].map({'B': 0, 'M': 1})\n"
     ]
    }
   ],
   "source": [
    "duv_patch_df['subject'] = duv_patch_df['subject'].str.replace('S', '')\n",
    "duv_patch_df['encode'] = duv_patch_df['Pred'].map({'B': 0, 'M': 1})\n",
    "\n",
    "DIFFUSION_PRED_GRID_MAP_DIR = os.path.join(BASE_PATH, 'diffusion_patch_gridmap')\n",
    "\n",
    "#storage2 = []\n",
    "for z in range(len(sample_paths)):\n",
    "    background = cv2.imread(sample_paths[z])\n",
    "    height, width = background.shape[:2]\n",
    "    custom_str = f\"{subjects[z]}_{sides[z]}\"\n",
    "    \n",
    "    focus_data = duv_patch_df[duv_patch_df['subject'] == custom_str]\n",
    "    x_list = focus_data['x'].astype(int).values\n",
    "    y_list = focus_data['y'].astype(int).values\n",
    "    encode_list = focus_data['encode'].astype(int).values\n",
    "    \n",
    "    zero_arr = np.zeros((math.ceil(height/400), math.ceil(width/400)))\n",
    "    zero_arr[x_list, y_list] = np.where(encode_list == 1, 1, -1)\n",
    "    #storage2.append(zero_arr)\n",
    "\n",
    "    np.save(os.path.join(DIFFUSION_PRED_GRID_MAP_DIR, f\"{custom_str}.npy\"), zero_arr)"
   ]
  },
  {
   "cell_type": "code",
   "execution_count": 53,
   "id": "d542484d-cea8-484c-b50e-63c92bf8d5c1",
   "metadata": {},
   "outputs": [],
   "source": [
    "def load_maps(custom_str, pred_dir, heat_dir):\n",
    "    pred_map = np.load(os.path.join(pred_dir, f\"{custom_str}.npy\"))\n",
    "    heat_map = np.load(os.path.join(heat_dir, f\"{custom_str}.npy\"))\n",
    "    return pred_map, heat_map\n",
    "\n",
    "def process_map(pred_map, heat_map, thres):\n",
    "    pred_map = np.multiply(pred_map, heat_map)\n",
    "    mask = (pred_map < 0.50) & (-0.50 < pred_map)\n",
    "    pred_map[mask] = 0\n",
    "    pred_map[pred_map > 0] = 1\n",
    "    pred_map[pred_map < 0] = -1\n",
    "    \n",
    "    all_pred_map = np.copy(pred_map)\n",
    "    all_pred_map[all_pred_map == -1] = 1\n",
    "    all_pred_pixels = np.count_nonzero(all_pred_map == 1)\n",
    "    \n",
    "    mal_pred_map = np.where(pred_map == -1, 0, pred_map)\n",
    "    ben_pred_map = np.where(pred_map == 1, 0, 1)\n",
    "\n",
    "    total_mal_pred_space = get_total_space(mal_pred_map)\n",
    "    total_ben_pred_space = get_total_space(ben_pred_map)\n",
    "\n",
    "    if total_mal_pred_space >= 0.005 * thres * all_pred_pixels:\n",
    "        return 'M'\n",
    "    else:\n",
    "        return 'B'\n",
    "\n",
    "def get_total_space(pred_map):\n",
    "    pred_map = pred_map.astype(np.uint8)\n",
    "    pred_background = (pred_map.shape[0] * pred_map.shape[1]) - np.count_nonzero(pred_map)\n",
    "\n",
    "    connectivity = 8\n",
    "    output = cv2.connectedComponentsWithStats(pred_map, connectivity, cv2.CV_32S)\n",
    "    num_labels, _, stats, _ = output\n",
    "\n",
    "    return sum([stats[num, cv2.CC_STAT_AREA] for num in range(num_labels) if stats[num, cv2.CC_STAT_AREA] != pred_background])\n",
    "\n",
    "def get_trend(mode, typ, truths):\n",
    "    return [\n",
    "        classification_report(np.array(truths), i, output_dict=True)[mode][typ]\n",
    "        for i in iteration_list\n",
    "    ]\n",
    "\n",
    "#subjects = filtered_df['Patient Subject ID'].values\n",
    "patient_status_dict = dict(zip(filtered_df[\"Patient Subject ID\"], filtered_df[\"Cancer Status\"]))\n",
    "cancer_statuses = [patient_status_dict[int(patient_id)] for patient_id in subjects]"
   ]
  },
  {
   "cell_type": "code",
   "execution_count": 28,
   "id": "2c3d8430-4421-473c-9641-b0feefc9cbd9",
   "metadata": {},
   "outputs": [],
   "source": [
    "# Folders for holding the GradCAM++ results and patch level results in a grid system\n",
    "GRADCAM_GRID_MAP_DIR = os.path.join(BASE_PATH, 'unknown_gradcam_gridmap')\n",
    "DIFFUSION_PRED_GRID_MAP_DIR = os.path.join(BASE_PATH, 'diffusion_patch_gridmap')\n",
    "\n",
    "# Folders for processing the patch level and GradCAM++ results for visualization purposes\n",
    "DIFFUSION_PROCESS_PATCHES_DIR = os.path.join(BASE_PATH,'diffusion_process_patchmaps')\n",
    "DIFFUSION_BOUNDING_BOXES_OVERLAY_DIR = os.path.join(BASE_PATH,'diffusion_bounding_boxes_overlays')\n"
   ]
  },
  {
   "cell_type": "code",
   "execution_count": 29,
   "id": "f5a3b1a4-d7bc-473f-8fcc-49d1f7ac7122",
   "metadata": {
    "scrolled": true
   },
   "outputs": [
    {
     "name": "stderr",
     "output_type": "stream",
     "text": [
      "/usr/local/lib/python3.8/dist-packages/sklearn/metrics/_classification.py:1469: UndefinedMetricWarning: Precision and F-score are ill-defined and being set to 0.0 in labels with no predicted samples. Use `zero_division` parameter to control this behavior.\n",
      "  _warn_prf(average, modifier, msg_start, len(result))\n",
      "/usr/local/lib/python3.8/dist-packages/sklearn/metrics/_classification.py:1469: UndefinedMetricWarning: Precision and F-score are ill-defined and being set to 0.0 in labels with no predicted samples. Use `zero_division` parameter to control this behavior.\n",
      "  _warn_prf(average, modifier, msg_start, len(result))\n",
      "/usr/local/lib/python3.8/dist-packages/sklearn/metrics/_classification.py:1469: UndefinedMetricWarning: Precision and F-score are ill-defined and being set to 0.0 in labels with no predicted samples. Use `zero_division` parameter to control this behavior.\n",
      "  _warn_prf(average, modifier, msg_start, len(result))\n",
      "/usr/local/lib/python3.8/dist-packages/sklearn/metrics/_classification.py:1469: UndefinedMetricWarning: Precision and F-score are ill-defined and being set to 0.0 in labels with no predicted samples. Use `zero_division` parameter to control this behavior.\n",
      "  _warn_prf(average, modifier, msg_start, len(result))\n",
      "/usr/local/lib/python3.8/dist-packages/sklearn/metrics/_classification.py:1469: UndefinedMetricWarning: Precision and F-score are ill-defined and being set to 0.0 in labels with no predicted samples. Use `zero_division` parameter to control this behavior.\n",
      "  _warn_prf(average, modifier, msg_start, len(result))\n",
      "/usr/local/lib/python3.8/dist-packages/sklearn/metrics/_classification.py:1469: UndefinedMetricWarning: Precision and F-score are ill-defined and being set to 0.0 in labels with no predicted samples. Use `zero_division` parameter to control this behavior.\n",
      "  _warn_prf(average, modifier, msg_start, len(result))\n"
     ]
    }
   ],
   "source": [
    "# Variables\n",
    "pred_dir = DIFFUSION_PRED_GRID_MAP_DIR\n",
    "heat_dir = GRADCAM_GRID_MAP_DIR\n",
    "custom_str_list = [f\"{subject}_{side}\" for subject, side in zip(subjects, sides)]\n",
    "\n",
    "# Main loop\n",
    "#iteration_list = [process_map(*load_maps(custom_str, pred_dir, heat_dir), thres) for custom_str in custom_str_list for thres in range(200)]\n",
    "iteration_list = [[process_map(*load_maps(custom_str, pred_dir, heat_dir), thres) for thres in range(200)] for custom_str in custom_str_list]\n",
    "iteration_list = [list(item) for item in zip(*iteration_list)]\n",
    "\n",
    "# Save results\n",
    "output_df = pd.DataFrame(iteration_list).transpose()\n",
    "output_df['Truth'] = cancer_statuses\n",
    "output_df['Subject'] = subjects\n",
    "output_df['Side'] = sides\n",
    "output_df['fullname'] = output_df['Subject'].astype(str) + '_' + output_df['Side'].astype(str)\n",
    "output_df = output_df.sort_values(by=\"Subject\")\n",
    "desired_columns_order = ['fullname','Subject', 'Side', 'Truth']\n",
    "new_column_order = desired_columns_order + [col for col in output_df.columns if col not in desired_columns_order]\n",
    "output_df = output_df[new_column_order]\n",
    "output_df.to_csv(os.path.join(BASE_PATH, 'diffusion_predictions.csv'), index=False)\n",
    "\n",
    "# Plot results\n",
    "mal_recall = get_trend('M', 'recall', cancer_statuses)\n",
    "ben_recall = get_trend('B', 'recall', cancer_statuses)"
   ]
  },
  {
   "cell_type": "code",
   "execution_count": 42,
   "id": "f8e8ed55-984a-419f-9cf5-6c180bdee0e0",
   "metadata": {},
   "outputs": [
    {
     "name": "stderr",
     "output_type": "stream",
     "text": [
      "/usr/local/lib/python3.8/dist-packages/sklearn/metrics/_classification.py:1469: UndefinedMetricWarning: Precision and F-score are ill-defined and being set to 0.0 in labels with no predicted samples. Use `zero_division` parameter to control this behavior.\n",
      "  _warn_prf(average, modifier, msg_start, len(result))\n",
      "/usr/local/lib/python3.8/dist-packages/sklearn/metrics/_classification.py:1469: UndefinedMetricWarning: Precision and F-score are ill-defined and being set to 0.0 in labels with no predicted samples. Use `zero_division` parameter to control this behavior.\n",
      "  _warn_prf(average, modifier, msg_start, len(result))\n",
      "/usr/local/lib/python3.8/dist-packages/sklearn/metrics/_classification.py:1469: UndefinedMetricWarning: Precision and F-score are ill-defined and being set to 0.0 in labels with no predicted samples. Use `zero_division` parameter to control this behavior.\n",
      "  _warn_prf(average, modifier, msg_start, len(result))\n"
     ]
    }
   ],
   "source": [
    "mal_precision = get_trend('M', 'precision', cancer_statuses)"
   ]
  },
  {
   "cell_type": "code",
   "execution_count": 30,
   "id": "3a6da408-59be-41a9-8e63-fae070bff08e",
   "metadata": {},
   "outputs": [
    {
     "data": {
      "image/png": "[encoded data removed]",
      "text/plain": [
       "<Figure size 700x500 with 1 Axes>"
      ]
     },
     "metadata": {},
     "output_type": "display_data"
    },
    {
     "data": {
      "text/plain": [
       "<Figure size 640x480 with 0 Axes>"
      ]
     },
     "metadata": {},
     "output_type": "display_data"
    }
   ],
   "source": [
    "sns.set_style(\"whitegrid\")\n",
    "f, ax = plt.subplots(figsize=(7, 5))\n",
    "x_vals = [0.5 * i for i in range(1, 201)]\n",
    "plt.plot(x_vals, mal_recall, linestyle    ='-', color='red', label='Tumor')\n",
    "plt.plot(x_vals, ben_recall, linestyle='-', color='green', label='Normal')\n",
    "plt.xlabel('Threshold % of Foreground Size')\n",
    "plt.ylabel('Recall Rate')\n",
    "plt.title('Tumor vs Normal Recall Rate over various Threshold % of Foreground Size')\n",
    "plt.legend(loc=\"lower right\")\n",
    "plt.show()\n",
    "plt.clf()\n"
   ]
  },
  {
   "cell_type": "code",
   "execution_count": 71,
   "id": "6ef5194a-963a-4c81-80fe-8c3efc548a23",
   "metadata": {},
   "outputs": [
    {
     "name": "stdout",
     "output_type": "stream",
     "text": [
      "              precision    recall  f1-score   support\n",
      "\n",
      "           B       0.80      1.00      0.89         8\n",
      "           M       1.00      0.97      0.98        62\n",
      "\n",
      "    accuracy                           0.97        70\n",
      "   macro avg       0.90      0.98      0.94        70\n",
      "weighted avg       0.98      0.97      0.97        70\n",
      "\n"
     ]
    }
   ],
   "source": [
    "print(classification_report(np.array(cancer_statuses),iteration_list[60]))"
   ]
  },
  {
   "cell_type": "code",
   "execution_count": 45,
   "id": "65e19f04-cc46-45f4-a767-e9d8fa6544a2",
   "metadata": {},
   "outputs": [
    {
     "data": {
      "image/png": "[encoded data removed]",
      "text/plain": [
       "<Figure size 640x480 with 1 Axes>"
      ]
     },
     "metadata": {},
     "output_type": "display_data"
    }
   ],
   "source": [
    "TPR = mal_recall\n",
    "FPR = [1 - recall for recall in ben_recall]\n",
    "from sklearn.metrics import auc\n",
    "import matplotlib.pyplot as plt\n",
    "\n",
    "plt.figure()\n",
    "plt.plot(FPR, TPR, color='darkorange', lw=2, label=f'ROC curve (area = {auc(FPR, TPR):.2f})')\n",
    "plt.plot([0, 1], [0, 1], color='navy', lw=2, linestyle='--')\n",
    "plt.xlim([0.0, 1.0])\n",
    "plt.ylim([0.0, 1.05])\n",
    "plt.xlabel('False Positive Rate')\n",
    "plt.ylabel('True Positive Rate')\n",
    "plt.title('Receiver Operating Characteristic (ROC) Curve')\n",
    "plt.legend(loc=\"lower right\")\n",
    "plt.show()\n"
   ]
  },
  {
   "cell_type": "code",
   "execution_count": 17,
   "id": "195670e8-6e6a-4d49-8267-25715976a8c7",
   "metadata": {
    "scrolled": true
   },
   "outputs": [
    {
     "name": "stderr",
     "output_type": "stream",
     "text": [
      "/usr/local/lib/python3.8/dist-packages/sklearn/metrics/_classification.py:1469: UndefinedMetricWarning: Precision and F-score are ill-defined and being set to 0.0 in labels with no predicted samples. Use `zero_division` parameter to control this behavior.\n",
      "  _warn_prf(average, modifier, msg_start, len(result))\n",
      "/usr/local/lib/python3.8/dist-packages/sklearn/metrics/_classification.py:1469: UndefinedMetricWarning: Precision and F-score are ill-defined and being set to 0.0 in labels with no predicted samples. Use `zero_division` parameter to control this behavior.\n",
      "  _warn_prf(average, modifier, msg_start, len(result))\n",
      "/usr/local/lib/python3.8/dist-packages/sklearn/metrics/_classification.py:1469: UndefinedMetricWarning: Precision and F-score are ill-defined and being set to 0.0 in labels with no predicted samples. Use `zero_division` parameter to control this behavior.\n",
      "  _warn_prf(average, modifier, msg_start, len(result))\n",
      "/usr/local/lib/python3.8/dist-packages/sklearn/metrics/_classification.py:1469: UndefinedMetricWarning: Precision and F-score are ill-defined and being set to 0.0 in labels with no predicted samples. Use `zero_division` parameter to control this behavior.\n",
      "  _warn_prf(average, modifier, msg_start, len(result))\n",
      "/usr/local/lib/python3.8/dist-packages/sklearn/metrics/_classification.py:1469: UndefinedMetricWarning: Precision and F-score are ill-defined and being set to 0.0 in labels with no predicted samples. Use `zero_division` parameter to control this behavior.\n",
      "  _warn_prf(average, modifier, msg_start, len(result))\n",
      "/usr/local/lib/python3.8/dist-packages/sklearn/metrics/_classification.py:1469: UndefinedMetricWarning: Precision and F-score are ill-defined and being set to 0.0 in labels with no predicted samples. Use `zero_division` parameter to control this behavior.\n",
      "  _warn_prf(average, modifier, msg_start, len(result))\n"
     ]
    }
   ],
   "source": [
    "def load_maps(custom_str, pred_dir, heat_dir):\n",
    "    pred_map = np.load(os.path.join(pred_dir, f\"{custom_str}.npy\"))\n",
    "    heat_map = np.load(os.path.join(heat_dir, f\"{custom_str}.npy\"))\n",
    "    return pred_map, heat_map\n",
    "\n",
    "def process_map(pred_map, heat_map, thres):\n",
    "    pred_map = np.multiply(pred_map, heat_map)\n",
    "    mask = (pred_map < 0.50) & (-0.50 < pred_map)\n",
    "    pred_map[mask] = 0\n",
    "    pred_map[pred_map > 0] = 1\n",
    "    pred_map[pred_map < 0] = -1\n",
    "    \n",
    "    all_pred_map = np.copy(pred_map)\n",
    "    all_pred_map[all_pred_map == -1] = 1\n",
    "    all_pred_pixels = np.count_nonzero(all_pred_map == 1)\n",
    "    \n",
    "    mal_pred_map = np.where(pred_map == -1, 0, pred_map)\n",
    "    ben_pred_map = np.where(pred_map == 1, 0, 1)\n",
    "\n",
    "    total_mal_pred_space = get_total_space(mal_pred_map)\n",
    "    total_ben_pred_space = get_total_space(ben_pred_map)\n",
    "\n",
    "    if total_mal_pred_space >= 0.005 * thres * all_pred_pixels:\n",
    "        return 'M'\n",
    "    else:\n",
    "        return 'B'\n",
    "\n",
    "def get_total_space(pred_map):\n",
    "    pred_map = pred_map.astype(np.uint8)\n",
    "    pred_background = (pred_map.shape[0] * pred_map.shape[1]) - np.count_nonzero(pred_map)\n",
    "\n",
    "    connectivity = 8\n",
    "    output = cv2.connectedComponentsWithStats(pred_map, connectivity, cv2.CV_32S)\n",
    "    num_labels, _, stats, _ = output\n",
    "\n",
    "    return sum([stats[num, cv2.CC_STAT_AREA] for num in range(num_labels) if stats[num, cv2.CC_STAT_AREA] != pred_background])\n",
    "\n",
    "def get_trend(mode, typ, truths):\n",
    "    return [\n",
    "        classification_report(np.array(truths), i, output_dict=True)[mode][typ]\n",
    "        for i in iteration_list\n",
    "    ]\n",
    "\n",
    "# Variables\n",
    "pred_dir = PRED_GRID_MAP_DIR\n",
    "heat_dir = GRADCAM_GRID_MAP_DIR\n",
    "custom_str_list = [f\"{subject}_{side}\" for subject, side in zip(subjects, sides)]\n",
    "\n",
    "# Main loop\n",
    "#iteration_list = [process_map(*load_maps(custom_str, pred_dir, heat_dir), thres) for custom_str in custom_str_list for thres in range(200)]\n",
    "iteration_list = [[process_map(*load_maps(custom_str, pred_dir, heat_dir), thres) for thres in range(200)] for custom_str in custom_str_list]\n",
    "iteration_list = [list(item) for item in zip(*iteration_list)]\n",
    "\n",
    "# Load data and extract information\n",
    "# df = pd.read_excel(os.path.join(BASE_PATH, \"Specimen Tracking Log and Financial Logs.xlsx\"), sheet_name=0)\n",
    "# extracted_df = df[[\"Sample #\", \"Type of Specimen (normal, IDC, ICL, tumor + adj normal)\"]].copy()\n",
    "# extracted_df.columns = [\"Patient Subject ID\", \"Specimen Type\"]\n",
    "# extracted_df[\"Cancer Status\"] = extracted_df[\"Specimen Type\"].apply(lambda x: 'B' if x == 'normal' else 'M')\n",
    "patient_status_dict = dict(zip(filtered_df[\"Patient Subject ID\"], filtered_df[\"Cancer Status\"]))\n",
    "cancer_statuses = [patient_status_dict[int(patient_id)] for patient_id in subjects]\n",
    "\n",
    "# Save results\n",
    "output_df = pd.DataFrame(iteration_list).transpose()\n",
    "output_df['Truth'] = cancer_statuses\n",
    "output_df['Subject'] = subjects\n",
    "output_df['Side'] = sides\n",
    "output_df['fullname'] = output_df['Subject'].astype(str) + '_' + output_df['Side'].astype(str)\n",
    "output_df = output_df.sort_values(by=\"Subject\")\n",
    "desired_columns_order = ['fullname','Subject', 'Side', 'Truth']\n",
    "new_column_order = desired_columns_order + [col for col in output_df.columns if col not in desired_columns_order]\n",
    "output_df = output_df[new_column_order]\n",
    "output_df.to_csv(os.path.join(BASE_PATH, 'predictions.csv'), index=False)\n",
    "\n",
    "# Plot results\n",
    "mal_recall = get_trend('M', 'recall', cancer_statuses)\n",
    "ben_recall = get_trend('B', 'recall', cancer_statuses)"
   ]
  },
  {
   "cell_type": "code",
   "execution_count": 23,
   "id": "2255dcce-54d2-42ae-8314-ee236e00f139",
   "metadata": {},
   "outputs": [
    {
     "data": {
      "image/png": "[encoded data removed]",
      "text/plain": [
       "<Figure size 700x500 with 1 Axes>"
      ]
     },
     "metadata": {},
     "output_type": "display_data"
    },
    {
     "data": {
      "text/plain": [
       "<Figure size 640x480 with 0 Axes>"
      ]
     },
     "metadata": {},
     "output_type": "display_data"
    }
   ],
   "source": [
    "sns.set_style(\"whitegrid\")\n",
    "f, ax = plt.subplots(figsize=(7, 5))\n",
    "x_vals = [0.5 * i for i in range(1, 201)]\n",
    "plt.plot(x_vals, mal_recall, linestyle    ='-', color='red', label='Tumor')\n",
    "plt.plot(x_vals, ben_recall, linestyle='-', color='green', label='Normal')\n",
    "plt.xlabel('Threshold % of Foreground Size')\n",
    "plt.ylabel('Recall Rate')\n",
    "plt.title('Tumor vs Normal Recall Rate over various Threshold % of Foreground Size')\n",
    "plt.legend(loc=\"lower right\")\n",
    "plt.show()\n",
    "plt.clf()\n"
   ]
  },
  {
   "cell_type": "code",
   "execution_count": 20,
   "id": "99bc94bf-72fb-4e02-87fb-f50c37416a01",
   "metadata": {},
   "outputs": [
    {
     "name": "stdout",
     "output_type": "stream",
     "text": [
      "              precision    recall  f1-score   support\n",
      "\n",
      "           B       0.64      0.88      0.74         8\n",
      "           M       0.98      0.94      0.96        62\n",
      "\n",
      "    accuracy                           0.93        70\n",
      "   macro avg       0.81      0.91      0.85        70\n",
      "weighted avg       0.94      0.93      0.93        70\n",
      "\n"
     ]
    }
   ],
   "source": [
    "print(classification_report(np.array(cancer_statuses),iteration_list[90]))"
   ]
  },
  {
   "cell_type": "code",
   "execution_count": 26,
   "id": "61b26d88-fbc3-4263-9af7-6a25bfdcde41",
   "metadata": {},
   "outputs": [
    {
     "data": {
      "image/png": "[encoded data removed]",
      "text/plain": [
       "<Figure size 640x480 with 1 Axes>"
      ]
     },
     "metadata": {},
     "output_type": "display_data"
    }
   ],
   "source": [
    "TPR = mal_recall\n",
    "FPR = [1 - recall for recall in ben_recall]\n",
    "from sklearn.metrics import auc\n",
    "import matplotlib.pyplot as plt\n",
    "\n",
    "plt.figure()\n",
    "plt.plot(FPR, TPR, color='darkorange', lw=2, label=f'ROC curve (area = {auc(FPR, TPR):.2f})')\n",
    "plt.plot([0, 1], [0, 1], color='navy', lw=2, linestyle='--')\n",
    "plt.xlim([0.0, 1.0])\n",
    "plt.ylim([0.0, 1.05])\n",
    "plt.xlabel('False Positive Rate')\n",
    "plt.ylabel('True Positive Rate')\n",
    "plt.title('Receiver Operating Characteristic (ROC) Curve')\n",
    "plt.legend(loc=\"lower right\")\n",
    "plt.show()\n"
   ]
  },
  {
   "cell_type": "code",
   "execution_count": 21,
   "id": "12a35da7-4e1a-49fc-8066-899d4abb34c6",
   "metadata": {},
   "outputs": [],
   "source": [
    "import matplotlib\n",
    "import matplotlib.pyplot as plt\n",
    "import seaborn as sns\n",
    "from PIL import Image, ImageDraw"
   ]
  },
  {
   "cell_type": "code",
   "execution_count": 22,
   "id": "0ebb932d-e80b-4176-b7fe-86905a5e043d",
   "metadata": {},
   "outputs": [],
   "source": [
    "bad_np = []\n",
    "for z in range(len(sample_paths)):\n",
    "    custom_str = f\"{subjects[z]}_{sides[z]}\"\n",
    "    pred_dir = PRED_GRID_MAP_DIR\n",
    "    heat_dir = GRADCAM_GRID_MAP_DIR\n",
    "    \n",
    "    pred_map = np.load(os.path.join(PRED_GRID_MAP_DIR, f\"{custom_str}.npy\"))\n",
    "    heat_map = np.load(os.path.join(GRADCAM_GRID_MAP_DIR, f\"{custom_str}.npy\"))\n",
    "\n",
    "    if(pred_map.shape!=heat_map.shape):\n",
    "        bad_np.append(custom_str)\n",
    "\n",
    "    combine_np=np.multiply(pred_map,heat_map)\n",
    "    mask = (combine_np < 0.25) & (combine_np > -0.25)\n",
    "    combine_np[mask]=0\n",
    "\n",
    "    mask_mal = (combine_np >= 0.5)\n",
    "    mask_ben = (combine_np <= -0.5)\n",
    "    combine_np[mask_mal]=1\n",
    "    combine_np[mask_ben]=-1\n",
    "\n",
    "    background = cv2.imread(sample_paths[z])\n",
    "    h, w = background.shape[0], background.shape[1]    \n",
    "    height=math.ceil(h/400)*400\n",
    "    width=math.ceil(w/400)*400\n",
    "    dim1 = (width,height)\n",
    "    new_image = cv2.resize(background,dim1,interpolation=cv2.INTER_AREA)\n",
    "\n",
    "    if (np.any(combine_np == 1) == True) and (np.any(combine_np == -1) == True):\n",
    "        c_list=['#00FF00','000000','000000','000000','000000','#000000','#000000','#FF0000',]\n",
    "    elif (np.any(combine_np == 1) == False) and (np.any(combine_np == -1) == True):\n",
    "        c_list=['#00FF00','000000','000000','000000','000000','#000000','#000000','#000000',]\n",
    "    elif (np.any(combine_np == 1) == True) and (np.any(combine_np == -1) == False):\n",
    "        c_list=['000000','000000','000000','000000','000000','#000000','#000000','#FF0000',]\n",
    "    cmap = matplotlib.colors.LinearSegmentedColormap.from_list('lala',c_list,N=8)\n",
    "    ax=sns.heatmap(combine_np,yticklabels=False,xticklabels=False,cmap=cmap,cbar=False)\n",
    "    figure = ax.get_figure()  \n",
    "\n",
    "    save_path = os.path.join(PROCESS_PATCHES_DIR, f\"{custom_str}map.jpg\")\n",
    "    figure.savefig(save_path, dpi=400)\n",
    "    plt.close(figure)\n",
    "    overlay = cv2.imread(save_path)\n",
    "\n",
    "    w=int(overlay.shape[1])\n",
    "    h=int(overlay.shape[0])\n",
    "    dim = (w,h)\n",
    "    coords=[]\n",
    "    for x in range(0,w):\n",
    "        for y in range(0,h):\n",
    "            if overlay[y,x][0]!=255 and overlay[y,x][1]!=255 and overlay[y,x][2]!=255:\n",
    "                coords.append((y,x))\n",
    "    tempt=[]\n",
    "    templ=[]\n",
    "    for x in coords:\n",
    "        tempt.append(x[0])\n",
    "        templ.append(x[1])\n",
    "    top = min(tempt)\n",
    "    bottom = max(tempt)\n",
    "    left = min(templ)\n",
    "    right = max(templ)\n",
    "    im = overlay[top:bottom, left:right]\n",
    "    im = cv2.resize(im,dim1,interpolation=cv2.INTER_AREA)\n",
    "\n",
    "    cropped_save_path = os.path.join(PROCESS_PATCHES_DIR, f\"{custom_str}cropped.jpg\")\n",
    "    cv2.imwrite(cropped_save_path, im)\n",
    "    overlay = Image.open(cropped_save_path)\n",
    "\n",
    "    width=overlay.size[0]\n",
    "    height=overlay.size[1]\n",
    "    img = Image.new(\"RGBA\", (width, height))\n",
    "\n",
    "    draw = ImageDraw.Draw(img)\n",
    "    for x in range(int(width/400)):\n",
    "        for y in range(int(height/400)):\n",
    "            draw.rectangle([((x*400)+30,(y*400)+30),((x*400)+370,(y*400)+370)],fill=(0,0,0),outline=None,width=1)\n",
    "    overlay.paste(img, (0, 0), img)\n",
    "    \n",
    "    grid_save_path = os.path.join(PROCESS_PATCHES_DIR, f\"{custom_str}grid.png\")\n",
    "    overlay.save(grid_save_path)\n",
    "    overlay = cv2.imread(grid_save_path)\n",
    "\n",
    "    added_image = cv2.addWeighted(new_image,1,overlay,0.5,-10)\n",
    "    bounding_box_save_path = os.path.join(BOUNDING_BOXES_OVERLAY_DIR, f\"{custom_str}boxalt.jpg\")\n",
    "    cv2.imwrite(bounding_box_save_path, added_image)"
   ]
  }
 ],
 "metadata": {
  "kernelspec": {
   "display_name": "Python 3 (ipykernel)",
   "language": "python",
   "name": "python3"
  },
  "language_info": {
   "codemirror_mode": {
    "name": "ipython",
    "version": 3
   },
   "file_extension": ".py",
   "mimetype": "text/x-python",
   "name": "python",
   "nbconvert_exporter": "python",
   "pygments_lexer": "ipython3",
   "version": "3.8.0"
  }
 },
 "nbformat": 4,
 "nbformat_minor": 5
}
