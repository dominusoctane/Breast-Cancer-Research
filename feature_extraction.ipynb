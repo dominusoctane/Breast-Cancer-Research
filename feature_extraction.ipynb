{
 "cells": [
  {
   "cell_type": "code",
   "execution_count": 1,
   "id": "a7396db0-7823-43e9-bd97-f462a15de485",
   "metadata": {},
   "outputs": [
    {
     "name": "stdout",
     "output_type": "stream",
     "text": [
      "ln: failed to create symbolic link 'resnet.py': File exists\n"
     ]
    },
    {
     "name": "stderr",
     "output_type": "stream",
     "text": [
      "2023-10-25 17:35:34.507112: I tensorflow/stream_executor/platform/default/dso_loader.cc:49] Successfully opened dynamic library libcudart.so.11.0\n"
     ]
    }
   ],
   "source": [
    "# Required imports\n",
    "import os\n",
    "import shutil\n",
    "import time\n",
    "import cv2\n",
    "import numpy as np\n",
    "import math\n",
    "import pandas as pd\n",
    "from PIL import Image\n",
    "import torch\n",
    "import torch.nn as nn\n",
    "import torchvision.models as models\n",
    "import torchvision.transforms as transforms\n",
    "from torchvision import datasets\n",
    "from matplotlib import pyplot as plt\n",
    "from sklearn.metrics import classification_report\n",
    "from xgboost import XGBClassifier\n",
    "import seaborn as sns\n",
    "\n",
    "# Constants\n",
    "Image.MAX_IMAGE_PIXELS = None\n",
    "os.environ[\"CUDA_VISIBLE_DEVICES\"] = \"3\"\n",
    "IMAGE_EXT = '.jpg'\n",
    "BASE_PATH = '/workspace/0728tot/last_experiment/'\n",
    "RESIZE_DIMS = (224, 224)\n",
    "NUM_CLASSES = 2\n",
    "\n",
    "\n",
    "!ln -s /workspace/0728tot/last_experiment/resnet.py resnet.py\n",
    "from resnet import *"
   ]
  },
  {
   "cell_type": "code",
   "execution_count": 2,
   "id": "14d3c6a4-0752-4884-896e-0a80c71aa126",
   "metadata": {},
   "outputs": [],
   "source": [
    "# Directory paths\n",
    "\n",
    "# Folders containing original DUV WSI\n",
    "ORIGINAL_IMAGES_DIR = os.path.join(BASE_PATH, 'unknown_DUV_WSI')\n",
    "\n",
    "# Folder containing reshaped DUV WSI\n",
    "RESHAPED_IMAGES_DIR = os.path.join(BASE_PATH, 'reshaped_unknown_DUV_WSI')\n",
    "\n",
    "# Folders processing the GradCAM++ results\n",
    "RAW_MAP_DIR = os.path.join(BASE_PATH, 'unknown_DenseNet169ImageNetGradCAM_2')\n",
    "FINAL_HEAT_MAP_DIR = os.path.join(BASE_PATH, 'unknown_DenseNet169ImageNetGradCAM')\n",
    "FINAL_OVERLAY_HEAT_MAP_DIR = os.path.join(BASE_PATH, 'unknown_DUV_finalheatmap/')\n",
    "\n",
    "# Folders for holding the GradCAM++ results and patch level results in a grid system\n",
    "GRADCAM_GRID_MAP_DIR = os.path.join(BASE_PATH, 'unknown_gradcam_gridmap')\n",
    "PRED_GRID_MAP_DIR = os.path.join(BASE_PATH, 'unknown_patch_gridmap')\n",
    "\n",
    "# Folders for processing the patch level and GradCAM++ results for visualization purposes\n",
    "PROCESS_PATCHES_DIR = os.path.join(BASE_PATH,'unknown_process_patchmaps')\n",
    "BOUNDING_BOXES_OVERLAY_DIR = os.path.join(BASE_PATH,'unknown_bounding_boxes_overlays')\n",
    "\n",
    "# Folders for patch related info\n",
    "PATCH_DIR = os.path.join(BASE_PATH, 'unknown_Patches')\n",
    "PATCH_FEATURES_DIR = os.path.join(BASE_PATH, 'unknown_Patches_features')\n",
    "PRIOR_PATCH_FEATURES_DIR = os.path.join(BASE_PATH, 'DUV_features')\n",
    "PRIOR_PATCH_DATA_CSV = os.path.join(BASE_PATH, 'duvdata.csv')\n",
    "\n",
    "# Folder for getting training splits, an example\n",
    "SPLIT_DIR = os.path.join(BASE_PATH, 'prior_train_splits')"
   ]
  },
  {
   "cell_type": "code",
   "execution_count": 3,
   "id": "4a2d3660-0320-41f2-8c55-23acdfef7c9d",
   "metadata": {
    "scrolled": true
   },
   "outputs": [],
   "source": [
    "# Load Data\n",
    "def make_old_dataframe(bh_folder, ext, name_replace_list, column_mapping):\n",
    "    '''Utility function to create dataframe from dataset'''    \n",
    "    data_entries = []\n",
    "    for root, _, files in os.walk(bh_folder):\n",
    "        for filename in files:\n",
    "            relative_path = os.path.relpath(root, bh_folder)\n",
    "            file_extension = os.path.splitext(filename)[-1]\n",
    "            if file_extension == ext:\n",
    "                try:\n",
    "                    full_path = os.path.join(root, filename)  # Compute the full path using the original filename\n",
    "                    for old, new in name_replace_list:\n",
    "                        filename = filename.replace(old, new)\n",
    "                    file_data = filename.replace(ext, \"\").split('_')\n",
    "                    row_data = dict(zip(column_mapping, [relative_path, filename, full_path] + file_data))\n",
    "                    data_entries.append(row_data)\n",
    "                except:\n",
    "                    pass\n",
    "    df = pd.DataFrame(data_entries)\n",
    "    for col, dtype in zip(column_mapping[3:], ['int'] * len(column_mapping[3:])):\n",
    "        df[col] = df[col].astype(dtype)\n",
    "    return df\n",
    "\n",
    "# Create DataFrames\n",
    "column_mapping_patch = ['subject', 'filename', 'fullpath', 'seq', 'y', 'x']\n",
    "\n",
    "duv_patch_df = make_old_dataframe(PATCH_DIR, '.png', [(\"-\", \"_\")], column_mapping_patch)"
   ]
  },
  {
   "cell_type": "code",
   "execution_count": 4,
   "id": "9efbf5e6-7423-492f-a980-639807c1451a",
   "metadata": {
    "scrolled": true
   },
   "outputs": [],
   "source": [
    "# # Feature Extraction\n",
    "# You will have to restart kernel you don't have enough GPU VRAM, check with !nvidia-smi\n",
    "\n",
    "if 'RNObject' not in locals():\n",
    "    print('Making ResNet object.')\n",
    "    RNObject = ResNetClass()\n",
    "\n",
    "res50 = RNObject.get_resnet_model(layer_name='avg_pool')\n",
    "RNObject.save_resnet_predictions(duv_patch_df, DIF_PATCH_FEATURES_DIR, res50, verbose=1, mode=1)"
   ]
  }
 ],
 "metadata": {
  "kernelspec": {
   "display_name": "Python 3 (ipykernel)",
   "language": "python",
   "name": "python3"
  },
  "language_info": {
   "codemirror_mode": {
    "name": "ipython",
    "version": 3
   },
   "file_extension": ".py",
   "mimetype": "text/x-python",
   "name": "python",
   "nbconvert_exporter": "python",
   "pygments_lexer": "ipython3",
   "version": "3.8.16"
  }
 },
 "nbformat": 4,
 "nbformat_minor": 5
}
